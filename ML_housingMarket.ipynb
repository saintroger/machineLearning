{
  "nbformat": 4,
  "nbformat_minor": 0,
  "metadata": {
    "colab": {
      "name": "SaintRoger_BountsebeEboueme_Final.ipynb",
      "provenance": []
    },
    "kernelspec": {
      "name": "python3",
      "display_name": "Python 3"
    },
    "language_info": {
      "name": "python"
    }
  },
  "cells": [
    {
      "cell_type": "code",
      "execution_count": 2,
      "metadata": {
        "colab": {
          "base_uri": "https://localhost:8080/"
        },
        "id": "Xo--fmtpzfNz",
        "outputId": "4aa690f1-c083-41e7-a613-b0686de3f3c6"
      },
      "outputs": [
        {
          "output_type": "stream",
          "name": "stderr",
          "text": [
            "/usr/local/lib/python3.7/dist-packages/statsmodels/tools/_testing.py:19: FutureWarning: pandas.util.testing is deprecated. Use the functions in the public API at pandas.testing instead.\n",
            "  import pandas.util.testing as tm\n"
          ]
        }
      ],
      "source": [
        "import pandas as pd\n",
        "import numpy as np\n",
        "import matplotlib.pyplot as plt\n",
        "import math\n",
        "import random\n",
        "\n",
        "import seaborn as sns\n",
        "import statsmodels.api as sm\n",
        "from statsmodels.formula.api import ols\n",
        "from sklearn.model_selection import train_test_split"
      ]
    },
    {
      "cell_type": "code",
      "source": [
        "df_melb = pd.read_csv('/content/drive/MyDrive/data/melb_data.csv')\n",
        "print(df_melb.columns)"
      ],
      "metadata": {
        "colab": {
          "base_uri": "https://localhost:8080/"
        },
        "id": "lh70BUK91Ys7",
        "outputId": "837b70ba-3898-4993-8664-1c1c23bf9356"
      },
      "execution_count": 3,
      "outputs": [
        {
          "output_type": "stream",
          "name": "stdout",
          "text": [
            "Index(['Suburb', 'Address', 'Rooms', 'Type', 'Price', 'Method', 'SellerG',\n",
            "       'Date', 'Distance', 'Postcode', 'Bedroom2', 'Bathroom', 'Car',\n",
            "       'Landsize', 'BuildingArea', 'YearBuilt', 'CouncilArea', 'Lattitude',\n",
            "       'Longtitude', 'Regionname', 'Propertycount'],\n",
            "      dtype='object')\n"
          ]
        }
      ]
    },
    {
      "cell_type": "markdown",
      "source": [
        "# **Q1** **a**"
      ],
      "metadata": {
        "id": "2FRP_CaPSB-1"
      }
    },
    {
      "cell_type": "markdown",
      "source": [
        "Car, BuildingArea, YearBuilt, CouncilArea each have a lot of missing variable. Car only has 62 which is manageable compared to the other variable mentioned which have thousands of missing data."
      ],
      "metadata": {
        "id": "8GSEOfKYUhmW"
      }
    },
    {
      "cell_type": "code",
      "source": [
        "df_melb.isna().sum()\n"
      ],
      "metadata": {
        "colab": {
          "base_uri": "https://localhost:8080/"
        },
        "id": "TgBuUt7JSBqn",
        "outputId": "9d5731c2-8c38-4812-c67e-781bd9a36902"
      },
      "execution_count": 4,
      "outputs": [
        {
          "output_type": "execute_result",
          "data": {
            "text/plain": [
              "Suburb              0\n",
              "Address             0\n",
              "Rooms               0\n",
              "Type                0\n",
              "Price               0\n",
              "Method              0\n",
              "SellerG             0\n",
              "Date                0\n",
              "Distance            0\n",
              "Postcode            0\n",
              "Bedroom2            0\n",
              "Bathroom            0\n",
              "Car                62\n",
              "Landsize            0\n",
              "BuildingArea     6450\n",
              "YearBuilt        5375\n",
              "CouncilArea      1369\n",
              "Lattitude           0\n",
              "Longtitude          0\n",
              "Regionname          0\n",
              "Propertycount       0\n",
              "dtype: int64"
            ]
          },
          "metadata": {},
          "execution_count": 4
        }
      ]
    },
    {
      "cell_type": "markdown",
      "source": [
        "# **Q1** **b**"
      ],
      "metadata": {
        "id": "DNrmTWpRVMGJ"
      }
    },
    {
      "cell_type": "code",
      "source": [
        "#compute median per housing \n",
        "df_temp = df_melb.groupby('Regionname').apply(lambda x: x['Price'].median()).to_frame(name = 'Price_median').reset_index()\n",
        "df_temp\n",
        "\n",
        "sns.barplot(y='Regionname', x='Price_median', data=df_temp)\n",
        "df_temp\n"
      ],
      "metadata": {
        "colab": {
          "base_uri": "https://localhost:8080/",
          "height": 563
        },
        "id": "kzSchzsyWLAe",
        "outputId": "902499fa-c4a1-493c-e67e-7bc4acb6cac6"
      },
      "execution_count": 5,
      "outputs": [
        {
          "output_type": "execute_result",
          "data": {
            "text/html": [
              "\n",
              "  <div id=\"df-8dfd9a61-91e6-4c51-a784-3432b3a2507a\">\n",
              "    <div class=\"colab-df-container\">\n",
              "      <div>\n",
              "<style scoped>\n",
              "    .dataframe tbody tr th:only-of-type {\n",
              "        vertical-align: middle;\n",
              "    }\n",
              "\n",
              "    .dataframe tbody tr th {\n",
              "        vertical-align: top;\n",
              "    }\n",
              "\n",
              "    .dataframe thead th {\n",
              "        text-align: right;\n",
              "    }\n",
              "</style>\n",
              "<table border=\"1\" class=\"dataframe\">\n",
              "  <thead>\n",
              "    <tr style=\"text-align: right;\">\n",
              "      <th></th>\n",
              "      <th>Regionname</th>\n",
              "      <th>Price_median</th>\n",
              "    </tr>\n",
              "  </thead>\n",
              "  <tbody>\n",
              "    <tr>\n",
              "      <th>0</th>\n",
              "      <td>Eastern Metropolitan</td>\n",
              "      <td>1010000.0</td>\n",
              "    </tr>\n",
              "    <tr>\n",
              "      <th>1</th>\n",
              "      <td>Eastern Victoria</td>\n",
              "      <td>670000.0</td>\n",
              "    </tr>\n",
              "    <tr>\n",
              "      <th>2</th>\n",
              "      <td>Northern Metropolitan</td>\n",
              "      <td>806250.0</td>\n",
              "    </tr>\n",
              "    <tr>\n",
              "      <th>3</th>\n",
              "      <td>Northern Victoria</td>\n",
              "      <td>540000.0</td>\n",
              "    </tr>\n",
              "    <tr>\n",
              "      <th>4</th>\n",
              "      <td>South-Eastern Metropolitan</td>\n",
              "      <td>850000.0</td>\n",
              "    </tr>\n",
              "    <tr>\n",
              "      <th>5</th>\n",
              "      <td>Southern Metropolitan</td>\n",
              "      <td>1250000.0</td>\n",
              "    </tr>\n",
              "    <tr>\n",
              "      <th>6</th>\n",
              "      <td>Western Metropolitan</td>\n",
              "      <td>793000.0</td>\n",
              "    </tr>\n",
              "    <tr>\n",
              "      <th>7</th>\n",
              "      <td>Western Victoria</td>\n",
              "      <td>400000.0</td>\n",
              "    </tr>\n",
              "  </tbody>\n",
              "</table>\n",
              "</div>\n",
              "      <button class=\"colab-df-convert\" onclick=\"convertToInteractive('df-8dfd9a61-91e6-4c51-a784-3432b3a2507a')\"\n",
              "              title=\"Convert this dataframe to an interactive table.\"\n",
              "              style=\"display:none;\">\n",
              "        \n",
              "  <svg xmlns=\"http://www.w3.org/2000/svg\" height=\"24px\"viewBox=\"0 0 24 24\"\n",
              "       width=\"24px\">\n",
              "    <path d=\"M0 0h24v24H0V0z\" fill=\"none\"/>\n",
              "    <path d=\"M18.56 5.44l.94 2.06.94-2.06 2.06-.94-2.06-.94-.94-2.06-.94 2.06-2.06.94zm-11 1L8.5 8.5l.94-2.06 2.06-.94-2.06-.94L8.5 2.5l-.94 2.06-2.06.94zm10 10l.94 2.06.94-2.06 2.06-.94-2.06-.94-.94-2.06-.94 2.06-2.06.94z\"/><path d=\"M17.41 7.96l-1.37-1.37c-.4-.4-.92-.59-1.43-.59-.52 0-1.04.2-1.43.59L10.3 9.45l-7.72 7.72c-.78.78-.78 2.05 0 2.83L4 21.41c.39.39.9.59 1.41.59.51 0 1.02-.2 1.41-.59l7.78-7.78 2.81-2.81c.8-.78.8-2.07 0-2.86zM5.41 20L4 18.59l7.72-7.72 1.47 1.35L5.41 20z\"/>\n",
              "  </svg>\n",
              "      </button>\n",
              "      \n",
              "  <style>\n",
              "    .colab-df-container {\n",
              "      display:flex;\n",
              "      flex-wrap:wrap;\n",
              "      gap: 12px;\n",
              "    }\n",
              "\n",
              "    .colab-df-convert {\n",
              "      background-color: #E8F0FE;\n",
              "      border: none;\n",
              "      border-radius: 50%;\n",
              "      cursor: pointer;\n",
              "      display: none;\n",
              "      fill: #1967D2;\n",
              "      height: 32px;\n",
              "      padding: 0 0 0 0;\n",
              "      width: 32px;\n",
              "    }\n",
              "\n",
              "    .colab-df-convert:hover {\n",
              "      background-color: #E2EBFA;\n",
              "      box-shadow: 0px 1px 2px rgba(60, 64, 67, 0.3), 0px 1px 3px 1px rgba(60, 64, 67, 0.15);\n",
              "      fill: #174EA6;\n",
              "    }\n",
              "\n",
              "    [theme=dark] .colab-df-convert {\n",
              "      background-color: #3B4455;\n",
              "      fill: #D2E3FC;\n",
              "    }\n",
              "\n",
              "    [theme=dark] .colab-df-convert:hover {\n",
              "      background-color: #434B5C;\n",
              "      box-shadow: 0px 1px 3px 1px rgba(0, 0, 0, 0.15);\n",
              "      filter: drop-shadow(0px 1px 2px rgba(0, 0, 0, 0.3));\n",
              "      fill: #FFFFFF;\n",
              "    }\n",
              "  </style>\n",
              "\n",
              "      <script>\n",
              "        const buttonEl =\n",
              "          document.querySelector('#df-8dfd9a61-91e6-4c51-a784-3432b3a2507a button.colab-df-convert');\n",
              "        buttonEl.style.display =\n",
              "          google.colab.kernel.accessAllowed ? 'block' : 'none';\n",
              "\n",
              "        async function convertToInteractive(key) {\n",
              "          const element = document.querySelector('#df-8dfd9a61-91e6-4c51-a784-3432b3a2507a');\n",
              "          const dataTable =\n",
              "            await google.colab.kernel.invokeFunction('convertToInteractive',\n",
              "                                                     [key], {});\n",
              "          if (!dataTable) return;\n",
              "\n",
              "          const docLinkHtml = 'Like what you see? Visit the ' +\n",
              "            '<a target=\"_blank\" href=https://colab.research.google.com/notebooks/data_table.ipynb>data table notebook</a>'\n",
              "            + ' to learn more about interactive tables.';\n",
              "          element.innerHTML = '';\n",
              "          dataTable['output_type'] = 'display_data';\n",
              "          await google.colab.output.renderOutput(dataTable, element);\n",
              "          const docLink = document.createElement('div');\n",
              "          docLink.innerHTML = docLinkHtml;\n",
              "          element.appendChild(docLink);\n",
              "        }\n",
              "      </script>\n",
              "    </div>\n",
              "  </div>\n",
              "  "
            ],
            "text/plain": [
              "                   Regionname  Price_median\n",
              "0        Eastern Metropolitan     1010000.0\n",
              "1            Eastern Victoria      670000.0\n",
              "2       Northern Metropolitan      806250.0\n",
              "3           Northern Victoria      540000.0\n",
              "4  South-Eastern Metropolitan      850000.0\n",
              "5       Southern Metropolitan     1250000.0\n",
              "6        Western Metropolitan      793000.0\n",
              "7            Western Victoria      400000.0"
            ]
          },
          "metadata": {},
          "execution_count": 5
        },
        {
          "output_type": "display_data",
          "data": {
            "image/png": "[encoded data removed]",
            "text/plain": [
              "<Figure size 432x288 with 1 Axes>"
            ]
          },
          "metadata": {
            "needs_background": "light"
          }
        }
      ]
    },
    {
      "cell_type": "markdown",
      "source": [
        "I think `Regionname` could affect the houding price but my prediction is not based on this graph."
      ],
      "metadata": {
        "id": "C442bRsFOJJ4"
      }
    },
    {
      "cell_type": "markdown",
      "source": [
        "# **Q1** **c**"
      ],
      "metadata": {
        "id": "pHDUWhBiOmu2"
      }
    },
    {
      "cell_type": "markdown",
      "source": [
        ""
      ],
      "metadata": {
        "id": "owNpbOTtD0DO"
      }
    },
    {
      "cell_type": "code",
      "source": [
        "sns.lmplot(x = 'Lattitude', y = 'Longtitude', hue = 'Distance', data=df_melb, legend=False, fit_reg=False)"
      ],
      "metadata": {
        "colab": {
          "base_uri": "https://localhost:8080/",
          "height": 386
        },
        "id": "DmfO8QzdOt3t",
        "outputId": "2d7ead22-1c63-4691-f237-2de5dba537d5"
      },
      "execution_count": 6,
      "outputs": [
        {
          "output_type": "execute_result",
          "data": {
            "text/plain": [
              "<seaborn.axisgrid.FacetGrid at 0x7fd9a8d9e710>"
            ]
          },
          "metadata": {},
          "execution_count": 6
        },
        {
          "output_type": "display_data",
          "data": {
            "image/png": "[encoded data removed]",
            "text/plain": [
              "<Figure size 360x360 with 1 Axes>"
            ]
          },
          "metadata": {
            "needs_background": "light"
          }
        }
      ]
    },
    {
      "cell_type": "markdown",
      "source": [
        "It seems to be the location of houses on the map relatively to origin which is CBD I think it means central business district."
      ],
      "metadata": {
        "id": "CoKbUYreSDtv"
      }
    },
    {
      "cell_type": "markdown",
      "source": [
        "# **Q2** **a** "
      ],
      "metadata": {
        "id": "MY79nDEvUnds"
      }
    },
    {
      "cell_type": "code",
      "source": [
        "pop_mean = df_melb['Price'].mean()\n",
        "#region selected southern metropiltan (Highest price median of all region)\n",
        "df_sample = df_melb[df_melb['Regionname']=='Southern Metropolitan'].sample(n=25)\n",
        "sample_mean = df_sample['Price'].mean()\n",
        "\n",
        "#Use the standard error of the sample as the variance for the distribution of sample means.\n",
        "import scipy.stats\n",
        "std_error = scipy.stats.sem(df_sample['Price'], nan_policy='omit')\n",
        "\n",
        "# z-score \n",
        "z = (sample_mean - pop_mean) / (std_error)\n",
        "z"
      ],
      "metadata": {
        "id": "sbQUqAdrU408",
        "colab": {
          "base_uri": "https://localhost:8080/"
        },
        "outputId": "f7b98a7c-1c7d-439d-8b81-535d3ad0b552"
      },
      "execution_count": 7,
      "outputs": [
        {
          "output_type": "execute_result",
          "data": {
            "text/plain": [
              "2.4574988085531486"
            ]
          },
          "metadata": {},
          "execution_count": 7
        }
      ]
    },
    {
      "cell_type": "markdown",
      "source": [
        "**Hypothesis test:**\n",
        "\n",
        "\n",
        "*   Null Hypothesis: The mean of Housing Price in southern metropolitan of melbourne does not differ from the population mean of housing price in melbourne.\n",
        "*   Alternative Hypothesis: The mean of Housing Price in southern metropolitan of melbourne differ from the population mean of housing price in melbourne.\n",
        "\n",
        "\n"
      ],
      "metadata": {
        "id": "x1VECakyiwuq"
      }
    },
    {
      "cell_type": "code",
      "source": [
        "def p_of_z(z):\n",
        "    return scipy.stats.norm(0, 1).cdf(z)\n",
        "p = 2*p_of_z(-z)\n",
        "p"
      ],
      "metadata": {
        "colab": {
          "base_uri": "https://localhost:8080/"
        },
        "id": "nZ9xGQpDkPFL",
        "outputId": "9e281c5b-6770-43ba-9d54-fc87d42ab8e5"
      },
      "execution_count": 8,
      "outputs": [
        {
          "output_type": "execute_result",
          "data": {
            "text/plain": [
              "0.013990827481816058"
            ]
          },
          "metadata": {},
          "execution_count": 8
        }
      ]
    },
    {
      "cell_type": "markdown",
      "source": [
        "With alpha = 0.5, p < alpha we are going to reject the null hypothesis "
      ],
      "metadata": {
        "id": "1fv8JNNlnrii"
      }
    },
    {
      "cell_type": "markdown",
      "source": [
        "# **Q3** **a**\n",
        "Finding two variables that are linearly correlated"
      ],
      "metadata": {
        "id": "rJsxW_EUoVnc"
      }
    },
    {
      "cell_type": "code",
      "source": [
        "import seaborn as sns \n",
        "#sns.pairplot(df_melb)\n",
        "plot = sns.scatterplot(x = 'Distance', y = 'YearBuilt', data = df_melb)\n",
        "plot.set_ylim(1800, 2000)"
      ],
      "metadata": {
        "colab": {
          "base_uri": "https://localhost:8080/",
          "height": 300
        },
        "id": "kRIrX6vJos4M",
        "outputId": "7619e33c-b2d6-4d9f-d205-91edfe54e7ed"
      },
      "execution_count": 9,
      "outputs": [
        {
          "output_type": "execute_result",
          "data": {
            "text/plain": [
              "(1800.0, 2000.0)"
            ]
          },
          "metadata": {},
          "execution_count": 9
        },
        {
          "output_type": "display_data",
          "data": {
            "image/png": "[encoded data removed]",
            "text/plain": [
              "<Figure size 432x288 with 1 Axes>"
            ]
          },
          "metadata": {
            "needs_background": "light"
          }
        }
      ]
    },
    {
      "cell_type": "markdown",
      "source": [
        "# **Q3** **b**\n"
      ],
      "metadata": {
        "id": "pV7yNXdxOVq_"
      }
    },
    {
      "cell_type": "code",
      "source": [
        "correlation = df_melb.corr()\n",
        "print(correlation.loc['YearBuilt', 'Distance'])"
      ],
      "metadata": {
        "id": "UcqTYeYAOTMW",
        "outputId": "aabf55c3-e0a8-4416-d30b-96e6a856d499",
        "colab": {
          "base_uri": "https://localhost:8080/"
        }
      },
      "execution_count": 10,
      "outputs": [
        {
          "output_type": "stream",
          "name": "stdout",
          "text": [
            "0.24637882379568835\n"
          ]
        }
      ]
    },
    {
      "cell_type": "code",
      "source": [
        "# distance and price \n",
        "# room and cars \n",
        "#bedroom2 and rooms\n",
        "# price and rooms\n",
        "#price and year built \n",
        "# lansize and building area \n",
        "\n"
      ],
      "metadata": {
        "colab": {
          "base_uri": "https://localhost:8080/",
          "height": 0
        },
        "id": "JlZxhFf9rFOL",
        "outputId": "50cff3f4-41d9-4777-8345-1dc179b93ac4"
      },
      "execution_count": 12,
      "outputs": [
        {
          "output_type": "stream",
          "name": "stdout",
          "text": [
            "0.24637882379568835\n"
          ]
        }
      ]
    },
    {
      "cell_type": "markdown",
      "source": [
        "# **Q3** **c**\n"
      ],
      "metadata": {
        "id": "jgBuIbiKVTxA"
      }
    },
    {
      "cell_type": "code",
      "source": [
        "#plot = sns.regplot(data=df_melb, x = df_melb['Distance'], y = df_melb['YearBuilt'])\n",
        "plot = sns.regplot( x = 'Distance', y = 'YearBuilt', data=df_melb)\n",
        "plot.set_ylim(1800, 2000)"
      ],
      "metadata": {
        "colab": {
          "base_uri": "https://localhost:8080/",
          "height": 300
        },
        "id": "Xm1Vaq2UwLd8",
        "outputId": "0ecce549-a222-4647-f43c-104431ff32d2"
      },
      "execution_count": 11,
      "outputs": [
        {
          "output_type": "execute_result",
          "data": {
            "text/plain": [
              "(1800.0, 2000.0)"
            ]
          },
          "metadata": {},
          "execution_count": 11
        },
        {
          "output_type": "display_data",
          "data": {
            "image/png": "[encoded data removed]",
            "text/plain": [
              "<Figure size 432x288 with 1 Axes>"
            ]
          },
          "metadata": {
            "needs_background": "light"
          }
        }
      ]
    },
    {
      "cell_type": "markdown",
      "source": [
        "# **Q4** \n"
      ],
      "metadata": {
        "id": "BaA9HYEWVedS"
      }
    },
    {
      "cell_type": "code",
      "source": [
        "model = ols(formula = 'Price ~ Distance + Rooms + YearBuilt', data = df_melb)\n",
        "res  = model.fit()\n",
        "res.rsquared"
      ],
      "metadata": {
        "id": "iwsiTNZOV_MR",
        "outputId": "b8586a9a-e88d-4ea6-b3a3-1ff54e71383e",
        "colab": {
          "base_uri": "https://localhost:8080/"
        }
      },
      "execution_count": 12,
      "outputs": [
        {
          "output_type": "execute_result",
          "data": {
            "text/plain": [
              "0.42627164285245767"
            ]
          },
          "metadata": {},
          "execution_count": 12
        }
      ]
    },
    {
      "cell_type": "markdown",
      "source": [
        "# **Q5** **a**"
      ],
      "metadata": {
        "id": "ZLW4_b4mZn-H"
      }
    },
    {
      "cell_type": "code",
      "source": [
        "train, val = train_test_split(df_melb, test_size=0.1, random_state=2022)\n"
      ],
      "metadata": {
        "id": "VmjhF90cZnrN"
      },
      "execution_count": 13,
      "outputs": []
    },
    {
      "cell_type": "markdown",
      "source": [
        "# **Q5** **b**"
      ],
      "metadata": {
        "id": "6zn76Inf4PSE"
      }
    },
    {
      "cell_type": "code",
      "source": [
        "#df_melb.groupby('SellerG').apply(lambda x: x['Price'].mean()).to_frame(name = 'Price_median').reset_index()\n",
        "\n",
        "expensive = []\n",
        "cheap = [] \n",
        "medium = [] \n",
        "\n",
        "def prework():\n",
        "\n",
        "  for i in range (len(df_melb[\"Price\"])):\n",
        "    if df_melb[\"Price\"][i] >= 76085.0 and df_melb[\"Price\"][i] < 900500.0:\n",
        "      cheap.append(df_melb[\"SellerG\"][i])\n",
        "    elif df_melb[\"Price\"][i] >= 900500.0 and df_melb[\"Price\"][i] < 3651000.0:\n",
        "      medium.append(df_melb[\"SellerG\"][i])\n",
        "    elif df_melb[\"Price\"][i] >= 3651000.0 and df_melb[\"Price\"][i] <= 9000000.0:\n",
        "      expensive.append(df_melb[\"SellerG\"][i])\n",
        "prework()\n"
      ],
      "metadata": {
        "id": "laOVY39TXr3F"
      },
      "execution_count": 14,
      "outputs": []
    },
    {
      "cell_type": "code",
      "source": [
        "def categorizing(x):\n",
        "  if x in cheap:\n",
        "    return 1\n",
        "  elif x in medium:\n",
        "    return 2\n",
        "  elif x in expensive:  \n",
        "    return 3\n",
        "  return categorizing\n",
        "\n",
        "df_melb['seller_rate'] = df_melb.SellerG.transform(categorizing)"
      ],
      "metadata": {
        "id": "cFiK5G6asx-P"
      },
      "execution_count": 17,
      "outputs": []
    },
    {
      "cell_type": "markdown",
      "source": [
        "# **Q5** **c**"
      ],
      "metadata": {
        "id": "aJq8eQp_4USh"
      }
    },
    {
      "cell_type": "code",
      "source": [
        "train, val = train_test_split(df_melb, test_size=0.1, random_state=2022)\n",
        "model_q5 = ols(formula = 'Price ~ Distance + Rooms + YearBuilt + seller_rate', data = val)\n",
        "\n",
        "res  = model_q5.fit()\n",
        "#reporting the rsquared on the validation set\n",
        "res.rsquared"
      ],
      "metadata": {
        "id": "1MD28lFQsBP4",
        "outputId": "ddf244e7-b99e-4266-f2e7-aada9951d7b6",
        "colab": {
          "base_uri": "https://localhost:8080/"
        }
      },
      "execution_count": 18,
      "outputs": [
        {
          "output_type": "execute_result",
          "data": {
            "text/plain": [
              "0.5065078264400763"
            ]
          },
          "metadata": {},
          "execution_count": 18
        }
      ]
    },
    {
      "cell_type": "markdown",
      "source": [
        "# **Q6** **a**"
      ],
      "metadata": {
        "id": "oIjsvyUZ4XjJ"
      }
    },
    {
      "cell_type": "code",
      "source": [
        "#creating above median \n",
        "df_median = df_melb.Price.median()\n",
        "\n",
        "def above_median(x):\n",
        "  if x > df_median:\n",
        "    return 1\n",
        "  else: \n",
        "    return 0\n",
        "\n",
        "df_melb['above_median'] = df_melb.Price.transform(above_median)\n",
        "\n"
      ],
      "metadata": {
        "id": "xkK_SVEn4hKt"
      },
      "execution_count": 19,
      "outputs": []
    },
    {
      "cell_type": "markdown",
      "source": [
        "# **Q6** **b**"
      ],
      "metadata": {
        "id": "Z8eQye-G78BM"
      }
    },
    {
      "cell_type": "code",
      "source": [
        "train, val = train_test_split(df_melb, test_size=0.1, random_state=2022)\n",
        "#model from q5 but on the training set\n",
        "model_q5 = ols(formula = 'Price ~ Distance + Rooms + YearBuilt + seller_rate', data = train)\n",
        "res_1 = model_q5.fit()\n",
        "\n",
        "from sklearn import metrics\n",
        "y = val['above_median'] \n",
        "y_hat = res_1.predict(val)\n",
        "y_pred_1 = (y_hat > val['Price'].median()).apply(int)\n",
        "\n",
        "acc = metrics.accuracy_score(y, y_pred_1)\n",
        "print(f'The Accuracy of this model is {100*acc}%')\n",
        "\n"
      ],
      "metadata": {
        "id": "DUgzRw448MUY",
        "outputId": "9f3a1345-29c1-40ab-de05-517978e720ce",
        "colab": {
          "base_uri": "https://localhost:8080/"
        }
      },
      "execution_count": 63,
      "outputs": [
        {
          "output_type": "stream",
          "name": "stdout",
          "text": [
            "The Accuracy of this model is 63.18114874815905%\n"
          ]
        }
      ]
    },
    {
      "cell_type": "markdown",
      "source": [
        "# **Q6** **c**"
      ],
      "metadata": {
        "id": "bopPc6od9Pxh"
      }
    },
    {
      "cell_type": "code",
      "source": [
        "from statsmodels.formula.api import logit\n",
        "model = logit(formula = 'above_median ~ Distance + Rooms + YearBuilt + seller_rate', data = train)\n",
        "res = model.fit()\n",
        "\n",
        "x_2 = val[['Distance' , 'Rooms' , 'YearBuilt', 'seller_rate']]\n",
        "y_2 = val['above_median']\n",
        "#print(val)\n",
        "y_hat = res.predict(x_2)\n",
        "\n",
        "y_pred_2 = (y_hat >= df_median).apply(int)\n",
        "\n",
        "acc = metrics.accuracy_score(y_2, y_pred_2)\n",
        "print(f'The Accuracy of this model is {100*acc}%')"
      ],
      "metadata": {
        "id": "HQF-t_v79PMi",
        "outputId": "45251a58-98da-42d5-9b49-314e258c1982",
        "colab": {
          "base_uri": "https://localhost:8080/"
        }
      },
      "execution_count": 64,
      "outputs": [
        {
          "output_type": "stream",
          "name": "stdout",
          "text": [
            "Warning: Maximum number of iterations has been exceeded.\n",
            "         Current function value: 0.462164\n",
            "         Iterations: 35\n",
            "The Accuracy of this model is 51.03092783505154%\n"
          ]
        },
        {
          "output_type": "stream",
          "name": "stderr",
          "text": [
            "/usr/local/lib/python3.7/dist-packages/statsmodels/base/model.py:512: ConvergenceWarning: Maximum Likelihood optimization failed to converge. Check mle_retvals\n",
            "  \"Check mle_retvals\", ConvergenceWarning)\n"
          ]
        }
      ]
    },
    {
      "cell_type": "markdown",
      "source": [
        "# **Q6** **d**"
      ],
      "metadata": {
        "id": "qXm0BoGRXARc"
      }
    },
    {
      "cell_type": "code",
      "source": [
        "auc = metrics.roc_auc_score(y, y_pred_1)\n",
        "recall = metrics.recall_score(y, y_pred_1)\n",
        "prec = metrics.precision_score(y, y_pred_1)\n",
        "print(f'The Recall of the OLS model on the validation set is {recall}')\n",
        "print(f'The Precision of the OLS model on the validation set is {prec}')\n",
        "print(f'The AUC of the OLS model is {auc}')\n",
        "\n",
        "print()\n",
        "\n",
        "auc = metrics.roc_auc_score(y_2, y_pred_2)\n",
        "recall = metrics.recall_score(y_2, y_pred_2)\n",
        "prec = metrics.precision_score(y_2, y_pred_2)\n",
        "print(f'The Recall of the Logit model on the validation set is {recall}')\n",
        "print(f'The Precision of the Logit model on the validation set is {prec}')\n",
        "print(f'The AUC of the Logit model is {auc}')"
      ],
      "metadata": {
        "id": "9iN8juc2Q8oj",
        "outputId": "c4ac672b-ddab-466a-ed94-b59b55e225fb",
        "colab": {
          "base_uri": "https://localhost:8080/"
        }
      },
      "execution_count": 65,
      "outputs": [
        {
          "output_type": "stream",
          "name": "stdout",
          "text": [
            "The Recall of the OLS model on the validation set is 0.49774436090225566\n",
            "The Precision of the OLS model on the validation set is 0.6659959758551308\n",
            "The AUC of the OLS model is 0.629103060682008\n",
            "\n",
            "The Recall of the Logit model on the validation set is 0.0\n",
            "The Precision of the Logit model on the validation set is 0.0\n",
            "The AUC of the Logit model is 0.5\n"
          ]
        },
        {
          "output_type": "stream",
          "name": "stderr",
          "text": [
            "/usr/local/lib/python3.7/dist-packages/sklearn/metrics/_classification.py:1318: UndefinedMetricWarning: Precision is ill-defined and being set to 0.0 due to no predicted samples. Use `zero_division` parameter to control this behavior.\n",
            "  _warn_prf(average, modifier, msg_start, len(result))\n"
          ]
        }
      ]
    },
    {
      "cell_type": "markdown",
      "source": [
        "# **Q7**"
      ],
      "metadata": {
        "id": "ERNJqc_IGXnE"
      }
    },
    {
      "cell_type": "code",
      "source": [
        "from sklearn.linear_model import Lasso\n",
        "\n",
        "x_train = train[['Bedroom2','Bathroom','Landsize','Lattitude','Longtitude',\t'Propertycount',\t'seller_rate','above_median']]\n",
        "y_train = train['Price']\n",
        "\n",
        "model = Lasso(alpha=0.01)\n",
        "model.fit(x_train,y_train)\n",
        "\n",
        "y_pred = model.predict(x_train)\n",
        "\n",
        "# score the model\n",
        "r2 = model.score(x_train, y_train)\n",
        "print(f'This model has an R^2 on the train set of {r2}')"
      ],
      "metadata": {
        "id": "DNSUWO4hPYMc",
        "outputId": "f33a2d92-6585-4861-ed2b-fe78122bfdfc",
        "colab": {
          "base_uri": "https://localhost:8080/"
        }
      },
      "execution_count": 66,
      "outputs": [
        {
          "output_type": "stream",
          "name": "stdout",
          "text": [
            "This model has an R^2 on the train set of 0.5513161078939356\n"
          ]
        }
      ]
    }
  ]
}
