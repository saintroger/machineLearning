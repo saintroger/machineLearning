{
 "cells": [
  {
   "cell_type": "markdown",
   "id": "7454526e",
   "metadata": {
    "id": "7454526e"
   },
   "source": [
    "# Horse Racing Data\n",
    "Source: https://www.kaggle.com/datasets/gdaley/hkracing?select=runs.csv\n",
    "\n",
    "*Statement:* Confirming that all group members have contributed significantly, and approximately equally, to the submitted work."
   ]
  },
  {
   "cell_type": "code",
   "execution_count": 2,
   "id": "0673ca07",
   "metadata": {
    "id": "0673ca07"
   },
   "outputs": [],
   "source": [
    "import pandas as pd\n",
    "import numpy as np\n",
    "import matplotlib.pyplot as plt\n",
    "import seaborn as sns"
   ]
  },
  {
   "cell_type": "markdown",
   "id": "eaef3a0d",
   "metadata": {
    "id": "eaef3a0d"
   },
   "source": [
    "## Runs Overview"
   ]
  },
  {
   "cell_type": "code",
   "execution_count": 3,
   "id": "Zlofvj8cm-9h",
   "metadata": {
    "colab": {
     "base_uri": "https://localhost:8080/"
    },
    "id": "Zlofvj8cm-9h",
    "outputId": "9c60a1a5-8453-41d7-acca-8550ae591b6d"
   },
   "outputs": [
    {
     "name": "stdout",
     "output_type": "stream",
     "text": [
      "Mounted at /content/drive\n"
     ]
    }
   ],
   "source": [
    "from google.colab import drive\n",
    "drive.mount('/content/drive')"
   ]
  },
  {
   "cell_type": "code",
   "execution_count": 4,
   "id": "716d6870",
   "metadata": {
    "id": "716d6870"
   },
   "outputs": [],
   "source": [
    "df_runs = pd.read_csv(\"/content/drive/MyDrive/data/runs.csv\")"
   ]
  },
  {
   "cell_type": "code",
   "execution_count": 4,
   "id": "7294f243",
   "metadata": {},
   "outputs": [],
   "source": [
    "df_runs = pd.read_csv(\"runs.csv\")"
   ]
  },
  {
   "cell_type": "code",
   "execution_count": 5,
   "id": "993fa77d",
   "metadata": {
    "colab": {
     "base_uri": "https://localhost:8080/"
    },
    "id": "993fa77d",
    "outputId": "5ae1e1f2-f4cb-4d1f-f39f-1af8b3136a51"
   },
   "outputs": [
    {
     "data": {
      "text/plain": [
       "(79447, 37)"
      ]
     },
     "execution_count": 5,
     "metadata": {},
     "output_type": "execute_result"
    }
   ],
   "source": [
    "df_runs.shape"
   ]
  },
  {
   "cell_type": "code",
   "execution_count": 6,
   "id": "4a702589",
   "metadata": {
    "colab": {
     "base_uri": "https://localhost:8080/"
    },
    "id": "4a702589",
    "outputId": "c530afec-466f-499e-e78b-191726cea2ed",
    "scrolled": true
   },
   "outputs": [
    {
     "data": {
      "text/plain": [
       "race_id              int64\n",
       "horse_no             int64\n",
       "horse_id             int64\n",
       "result               int64\n",
       "won                float64\n",
       "lengths_behind     float64\n",
       "horse_age            int64\n",
       "horse_country       object\n",
       "horse_type          object\n",
       "horse_rating         int64\n",
       "horse_gear          object\n",
       "declared_weight    float64\n",
       "actual_weight        int64\n",
       "draw                 int64\n",
       "position_sec1        int64\n",
       "position_sec2        int64\n",
       "position_sec3        int64\n",
       "position_sec4      float64\n",
       "position_sec5      float64\n",
       "position_sec6      float64\n",
       "behind_sec1        float64\n",
       "behind_sec2        float64\n",
       "behind_sec3        float64\n",
       "behind_sec4        float64\n",
       "behind_sec5        float64\n",
       "behind_sec6        float64\n",
       "time1              float64\n",
       "time2              float64\n",
       "time3              float64\n",
       "time4              float64\n",
       "time5              float64\n",
       "time6              float64\n",
       "finish_time        float64\n",
       "win_odds           float64\n",
       "place_odds         float64\n",
       "trainer_id           int64\n",
       "jockey_id            int64\n",
       "dtype: object"
      ]
     },
     "execution_count": 6,
     "metadata": {},
     "output_type": "execute_result"
    }
   ],
   "source": [
    "df_runs.dtypes"
   ]
  },
  {
   "cell_type": "code",
   "execution_count": 7,
   "id": "c822696c",
   "metadata": {
    "colab": {
     "base_uri": "https://localhost:8080/",
     "height": 394
    },
    "id": "c822696c",
    "outputId": "3fa685bb-30a0-4e82-9950-af52e6ff08d3"
   },
   "outputs": [
    {
     "data": {
      "text/html": [
       "<div>\n",
       "<style scoped>\n",
       "    .dataframe tbody tr th:only-of-type {\n",
       "        vertical-align: middle;\n",
       "    }\n",
       "\n",
       "    .dataframe tbody tr th {\n",
       "        vertical-align: top;\n",
       "    }\n",
       "\n",
       "    .dataframe thead th {\n",
       "        text-align: right;\n",
       "    }\n",
       "</style>\n",
       "<table border=\"1\" class=\"dataframe\">\n",
       "  <thead>\n",
       "    <tr style=\"text-align: right;\">\n",
       "      <th></th>\n",
       "      <th>race_id</th>\n",
       "      <th>horse_no</th>\n",
       "      <th>horse_id</th>\n",
       "      <th>result</th>\n",
       "      <th>won</th>\n",
       "      <th>lengths_behind</th>\n",
       "      <th>horse_age</th>\n",
       "      <th>horse_rating</th>\n",
       "      <th>declared_weight</th>\n",
       "      <th>actual_weight</th>\n",
       "      <th>...</th>\n",
       "      <th>time2</th>\n",
       "      <th>time3</th>\n",
       "      <th>time4</th>\n",
       "      <th>time5</th>\n",
       "      <th>time6</th>\n",
       "      <th>finish_time</th>\n",
       "      <th>win_odds</th>\n",
       "      <th>place_odds</th>\n",
       "      <th>trainer_id</th>\n",
       "      <th>jockey_id</th>\n",
       "    </tr>\n",
       "  </thead>\n",
       "  <tbody>\n",
       "    <tr>\n",
       "      <th>count</th>\n",
       "      <td>79447.000000</td>\n",
       "      <td>79447.000000</td>\n",
       "      <td>79447.000000</td>\n",
       "      <td>79447.000000</td>\n",
       "      <td>79447.000000</td>\n",
       "      <td>79447.000000</td>\n",
       "      <td>79447.000000</td>\n",
       "      <td>79447.000000</td>\n",
       "      <td>79447.000000</td>\n",
       "      <td>79447.000000</td>\n",
       "      <td>...</td>\n",
       "      <td>79447.000000</td>\n",
       "      <td>79447.000000</td>\n",
       "      <td>46226.000000</td>\n",
       "      <td>10079.000000</td>\n",
       "      <td>1296.000000</td>\n",
       "      <td>79447.000000</td>\n",
       "      <td>79447.000000</td>\n",
       "      <td>75712.000000</td>\n",
       "      <td>79447.000000</td>\n",
       "      <td>79447.000000</td>\n",
       "    </tr>\n",
       "    <tr>\n",
       "      <th>mean</th>\n",
       "      <td>3173.352814</td>\n",
       "      <td>6.905623</td>\n",
       "      <td>2204.410525</td>\n",
       "      <td>6.838597</td>\n",
       "      <td>0.080053</td>\n",
       "      <td>6.108901</td>\n",
       "      <td>3.339346</td>\n",
       "      <td>61.034904</td>\n",
       "      <td>1104.953568</td>\n",
       "      <td>122.729656</td>\n",
       "      <td>...</td>\n",
       "      <td>22.928985</td>\n",
       "      <td>23.864054</td>\n",
       "      <td>24.039662</td>\n",
       "      <td>24.105221</td>\n",
       "      <td>24.350216</td>\n",
       "      <td>85.322914</td>\n",
       "      <td>28.812977</td>\n",
       "      <td>7.423177</td>\n",
       "      <td>79.793007</td>\n",
       "      <td>85.832341</td>\n",
       "    </tr>\n",
       "    <tr>\n",
       "      <th>std</th>\n",
       "      <td>1833.101494</td>\n",
       "      <td>3.760711</td>\n",
       "      <td>1275.049375</td>\n",
       "      <td>3.730498</td>\n",
       "      <td>0.271378</td>\n",
       "      <td>33.636209</td>\n",
       "      <td>0.876763</td>\n",
       "      <td>11.748788</td>\n",
       "      <td>62.347597</td>\n",
       "      <td>6.305496</td>\n",
       "      <td>...</td>\n",
       "      <td>3.599727</td>\n",
       "      <td>3.571163</td>\n",
       "      <td>4.663367</td>\n",
       "      <td>1.127963</td>\n",
       "      <td>1.314755</td>\n",
       "      <td>18.512883</td>\n",
       "      <td>30.097375</td>\n",
       "      <td>8.823430</td>\n",
       "      <td>45.118874</td>\n",
       "      <td>54.338105</td>\n",
       "    </tr>\n",
       "    <tr>\n",
       "      <th>min</th>\n",
       "      <td>0.000000</td>\n",
       "      <td>1.000000</td>\n",
       "      <td>0.000000</td>\n",
       "      <td>1.000000</td>\n",
       "      <td>0.000000</td>\n",
       "      <td>-0.500000</td>\n",
       "      <td>2.000000</td>\n",
       "      <td>10.000000</td>\n",
       "      <td>693.000000</td>\n",
       "      <td>103.000000</td>\n",
       "      <td>...</td>\n",
       "      <td>19.990000</td>\n",
       "      <td>21.000000</td>\n",
       "      <td>21.200000</td>\n",
       "      <td>21.420000</td>\n",
       "      <td>21.500000</td>\n",
       "      <td>55.160000</td>\n",
       "      <td>1.000000</td>\n",
       "      <td>1.000000</td>\n",
       "      <td>0.000000</td>\n",
       "      <td>0.000000</td>\n",
       "    </tr>\n",
       "    <tr>\n",
       "      <th>25%</th>\n",
       "      <td>1586.000000</td>\n",
       "      <td>4.000000</td>\n",
       "      <td>1085.000000</td>\n",
       "      <td>4.000000</td>\n",
       "      <td>0.000000</td>\n",
       "      <td>1.750000</td>\n",
       "      <td>3.000000</td>\n",
       "      <td>60.000000</td>\n",
       "      <td>1062.000000</td>\n",
       "      <td>118.000000</td>\n",
       "      <td>...</td>\n",
       "      <td>22.290000</td>\n",
       "      <td>23.230000</td>\n",
       "      <td>23.320000</td>\n",
       "      <td>23.410000</td>\n",
       "      <td>23.570000</td>\n",
       "      <td>70.590000</td>\n",
       "      <td>7.700000</td>\n",
       "      <td>2.400000</td>\n",
       "      <td>47.000000</td>\n",
       "      <td>39.000000</td>\n",
       "    </tr>\n",
       "    <tr>\n",
       "      <th>50%</th>\n",
       "      <td>3174.000000</td>\n",
       "      <td>7.000000</td>\n",
       "      <td>2209.000000</td>\n",
       "      <td>7.000000</td>\n",
       "      <td>0.000000</td>\n",
       "      <td>4.000000</td>\n",
       "      <td>3.000000</td>\n",
       "      <td>60.000000</td>\n",
       "      <td>1102.000000</td>\n",
       "      <td>123.000000</td>\n",
       "      <td>...</td>\n",
       "      <td>22.870000</td>\n",
       "      <td>23.760000</td>\n",
       "      <td>23.890000</td>\n",
       "      <td>23.960000</td>\n",
       "      <td>24.120000</td>\n",
       "      <td>83.350000</td>\n",
       "      <td>15.000000</td>\n",
       "      <td>4.100000</td>\n",
       "      <td>75.000000</td>\n",
       "      <td>76.000000</td>\n",
       "    </tr>\n",
       "    <tr>\n",
       "      <th>75%</th>\n",
       "      <td>4764.500000</td>\n",
       "      <td>10.000000</td>\n",
       "      <td>3308.000000</td>\n",
       "      <td>10.000000</td>\n",
       "      <td>0.000000</td>\n",
       "      <td>6.750000</td>\n",
       "      <td>3.000000</td>\n",
       "      <td>60.000000</td>\n",
       "      <td>1146.000000</td>\n",
       "      <td>128.000000</td>\n",
       "      <td>...</td>\n",
       "      <td>23.520000</td>\n",
       "      <td>24.410000</td>\n",
       "      <td>24.560000</td>\n",
       "      <td>24.630000</td>\n",
       "      <td>24.820000</td>\n",
       "      <td>100.780000</td>\n",
       "      <td>38.000000</td>\n",
       "      <td>8.600000</td>\n",
       "      <td>118.000000</td>\n",
       "      <td>138.000000</td>\n",
       "    </tr>\n",
       "    <tr>\n",
       "      <th>max</th>\n",
       "      <td>6348.000000</td>\n",
       "      <td>14.000000</td>\n",
       "      <td>4404.000000</td>\n",
       "      <td>14.000000</td>\n",
       "      <td>1.000000</td>\n",
       "      <td>999.000000</td>\n",
       "      <td>10.000000</td>\n",
       "      <td>138.000000</td>\n",
       "      <td>1369.000000</td>\n",
       "      <td>133.000000</td>\n",
       "      <td>...</td>\n",
       "      <td>999.000000</td>\n",
       "      <td>999.000000</td>\n",
       "      <td>999.000000</td>\n",
       "      <td>49.570000</td>\n",
       "      <td>34.150000</td>\n",
       "      <td>163.580000</td>\n",
       "      <td>99.000000</td>\n",
       "      <td>101.000000</td>\n",
       "      <td>175.000000</td>\n",
       "      <td>185.000000</td>\n",
       "    </tr>\n",
       "  </tbody>\n",
       "</table>\n",
       "<p>8 rows × 34 columns</p>\n",
       "</div>"
      ],
      "text/plain": [
       "            race_id      horse_no      horse_id        result           won  \\\n",
       "count  79447.000000  79447.000000  79447.000000  79447.000000  79447.000000   \n",
       "mean    3173.352814      6.905623   2204.410525      6.838597      0.080053   \n",
       "std     1833.101494      3.760711   1275.049375      3.730498      0.271378   \n",
       "min        0.000000      1.000000      0.000000      1.000000      0.000000   \n",
       "25%     1586.000000      4.000000   1085.000000      4.000000      0.000000   \n",
       "50%     3174.000000      7.000000   2209.000000      7.000000      0.000000   \n",
       "75%     4764.500000     10.000000   3308.000000     10.000000      0.000000   \n",
       "max     6348.000000     14.000000   4404.000000     14.000000      1.000000   \n",
       "\n",
       "       lengths_behind     horse_age  horse_rating  declared_weight  \\\n",
       "count    79447.000000  79447.000000  79447.000000     79447.000000   \n",
       "mean         6.108901      3.339346     61.034904      1104.953568   \n",
       "std         33.636209      0.876763     11.748788        62.347597   \n",
       "min         -0.500000      2.000000     10.000000       693.000000   \n",
       "25%          1.750000      3.000000     60.000000      1062.000000   \n",
       "50%          4.000000      3.000000     60.000000      1102.000000   \n",
       "75%          6.750000      3.000000     60.000000      1146.000000   \n",
       "max        999.000000     10.000000    138.000000      1369.000000   \n",
       "\n",
       "       actual_weight  ...         time2         time3         time4  \\\n",
       "count   79447.000000  ...  79447.000000  79447.000000  46226.000000   \n",
       "mean      122.729656  ...     22.928985     23.864054     24.039662   \n",
       "std         6.305496  ...      3.599727      3.571163      4.663367   \n",
       "min       103.000000  ...     19.990000     21.000000     21.200000   \n",
       "25%       118.000000  ...     22.290000     23.230000     23.320000   \n",
       "50%       123.000000  ...     22.870000     23.760000     23.890000   \n",
       "75%       128.000000  ...     23.520000     24.410000     24.560000   \n",
       "max       133.000000  ...    999.000000    999.000000    999.000000   \n",
       "\n",
       "              time5        time6   finish_time      win_odds    place_odds  \\\n",
       "count  10079.000000  1296.000000  79447.000000  79447.000000  75712.000000   \n",
       "mean      24.105221    24.350216     85.322914     28.812977      7.423177   \n",
       "std        1.127963     1.314755     18.512883     30.097375      8.823430   \n",
       "min       21.420000    21.500000     55.160000      1.000000      1.000000   \n",
       "25%       23.410000    23.570000     70.590000      7.700000      2.400000   \n",
       "50%       23.960000    24.120000     83.350000     15.000000      4.100000   \n",
       "75%       24.630000    24.820000    100.780000     38.000000      8.600000   \n",
       "max       49.570000    34.150000    163.580000     99.000000    101.000000   \n",
       "\n",
       "         trainer_id     jockey_id  \n",
       "count  79447.000000  79447.000000  \n",
       "mean      79.793007     85.832341  \n",
       "std       45.118874     54.338105  \n",
       "min        0.000000      0.000000  \n",
       "25%       47.000000     39.000000  \n",
       "50%       75.000000     76.000000  \n",
       "75%      118.000000    138.000000  \n",
       "max      175.000000    185.000000  \n",
       "\n",
       "[8 rows x 34 columns]"
      ]
     },
     "execution_count": 7,
     "metadata": {},
     "output_type": "execute_result"
    }
   ],
   "source": [
    "df_runs.describe()"
   ]
  },
  {
   "cell_type": "code",
   "execution_count": 8,
   "id": "3b4d2657",
   "metadata": {
    "colab": {
     "base_uri": "https://localhost:8080/"
    },
    "id": "3b4d2657",
    "outputId": "b4cf77ca-dd70-401c-a1be-a9473faec2a5"
   },
   "outputs": [
    {
     "data": {
      "text/plain": [
       "race_id                0\n",
       "horse_no               0\n",
       "horse_id               0\n",
       "result                 0\n",
       "won                    0\n",
       "lengths_behind         0\n",
       "horse_age              0\n",
       "horse_country          2\n",
       "horse_type             2\n",
       "horse_rating           0\n",
       "horse_gear             0\n",
       "declared_weight        0\n",
       "actual_weight          0\n",
       "draw                   0\n",
       "position_sec1          0\n",
       "position_sec2          0\n",
       "position_sec3          0\n",
       "position_sec4      33221\n",
       "position_sec5      69368\n",
       "position_sec6      78151\n",
       "behind_sec1            0\n",
       "behind_sec2            0\n",
       "behind_sec3            0\n",
       "behind_sec4        33221\n",
       "behind_sec5        69368\n",
       "behind_sec6        78151\n",
       "time1                  0\n",
       "time2                  0\n",
       "time3                  0\n",
       "time4              33221\n",
       "time5              69368\n",
       "time6              78151\n",
       "finish_time            0\n",
       "win_odds               0\n",
       "place_odds          3735\n",
       "trainer_id             0\n",
       "jockey_id              0\n",
       "dtype: int64"
      ]
     },
     "execution_count": 8,
     "metadata": {},
     "output_type": "execute_result"
    }
   ],
   "source": [
    "df_runs.isna().sum()"
   ]
  },
  {
   "cell_type": "code",
   "execution_count": 9,
   "id": "88386d20",
   "metadata": {
    "id": "88386d20"
   },
   "outputs": [],
   "source": [
    "df_runs = df_runs.dropna(subset=['horse_country', 'horse_type', 'place_odds'])"
   ]
  },
  {
   "cell_type": "code",
   "execution_count": 10,
   "id": "b7ff25c8",
   "metadata": {
    "id": "b7ff25c8"
   },
   "outputs": [],
   "source": [
    "df_runs = df_runs.drop(columns=['position_sec4', 'position_sec5', 'position_sec6', 'behind_sec4', 'behind_sec5', 'behind_sec6', 'time4', 'time5', 'time6'])"
   ]
  },
  {
   "cell_type": "markdown",
   "id": "2905c01e",
   "metadata": {
    "id": "2905c01e"
   },
   "source": [
    "## Races Overview"
   ]
  },
  {
   "cell_type": "code",
   "execution_count": 13,
   "id": "6c8f3095",
   "metadata": {
    "id": "6c8f3095"
   },
   "outputs": [],
   "source": [
    "# df_races = pd.read_csv(\"/content/drive/MyDrive/data/races.csv\")\n",
    "df_races = pd.read_csv(\"races.csv\")"
   ]
  },
  {
   "cell_type": "code",
   "execution_count": null,
   "id": "cc8e5f2f",
   "metadata": {},
   "outputs": [],
   "source": [
    "df_races.shape"
   ]
  },
  {
   "cell_type": "code",
   "execution_count": 14,
   "id": "3b1ad0ea",
   "metadata": {
    "colab": {
     "base_uri": "https://localhost:8080/"
    },
    "id": "3b1ad0ea",
    "outputId": "5defcab2-681f-45f0-f014-9d50584b3f3a"
   },
   "outputs": [
    {
     "data": {
      "text/plain": [
       "race_id                  0\n",
       "date                     0\n",
       "venue                    0\n",
       "race_no                  0\n",
       "config                   0\n",
       "surface                  0\n",
       "distance                 0\n",
       "going                    0\n",
       "horse_ratings            0\n",
       "prize                  462\n",
       "race_class               0\n",
       "sec_time1                0\n",
       "sec_time2                0\n",
       "sec_time3                0\n",
       "sec_time4             2715\n",
       "sec_time5             5528\n",
       "sec_time6             6234\n",
       "sec_time7             6349\n",
       "time1                    0\n",
       "time2                    0\n",
       "time3                    0\n",
       "time4                 2715\n",
       "time5                 5528\n",
       "time6                 6234\n",
       "time7                 6349\n",
       "place_combination1       0\n",
       "place_combination2       0\n",
       "place_combination3      25\n",
       "place_combination4    6326\n",
       "place_dividend1          0\n",
       "place_dividend2          0\n",
       "place_dividend3         25\n",
       "place_dividend4       6326\n",
       "win_combination1         0\n",
       "win_dividend1            0\n",
       "win_combination2      6337\n",
       "win_dividend2         6337\n",
       "dtype: int64"
      ]
     },
     "execution_count": 14,
     "metadata": {},
     "output_type": "execute_result"
    }
   ],
   "source": [
    "df_races.isna().sum()"
   ]
  },
  {
   "cell_type": "code",
   "execution_count": 15,
   "id": "dc8cbfa0",
   "metadata": {
    "id": "dc8cbfa0"
   },
   "outputs": [],
   "source": [
    "df_races = df_races.iloc[:, 0:10]"
   ]
  },
  {
   "cell_type": "code",
   "execution_count": 16,
   "id": "9a391bf7",
   "metadata": {
    "colab": {
     "base_uri": "https://localhost:8080/",
     "height": 206
    },
    "id": "9a391bf7",
    "outputId": "683afcea-47fb-44e1-c60a-da0e40d92f03"
   },
   "outputs": [
    {
     "data": {
      "text/html": [
       "<div>\n",
       "<style scoped>\n",
       "    .dataframe tbody tr th:only-of-type {\n",
       "        vertical-align: middle;\n",
       "    }\n",
       "\n",
       "    .dataframe tbody tr th {\n",
       "        vertical-align: top;\n",
       "    }\n",
       "\n",
       "    .dataframe thead th {\n",
       "        text-align: right;\n",
       "    }\n",
       "</style>\n",
       "<table border=\"1\" class=\"dataframe\">\n",
       "  <thead>\n",
       "    <tr style=\"text-align: right;\">\n",
       "      <th></th>\n",
       "      <th>race_id</th>\n",
       "      <th>date</th>\n",
       "      <th>venue</th>\n",
       "      <th>race_no</th>\n",
       "      <th>config</th>\n",
       "      <th>surface</th>\n",
       "      <th>distance</th>\n",
       "      <th>going</th>\n",
       "      <th>horse_ratings</th>\n",
       "      <th>prize</th>\n",
       "    </tr>\n",
       "  </thead>\n",
       "  <tbody>\n",
       "    <tr>\n",
       "      <th>0</th>\n",
       "      <td>0</td>\n",
       "      <td>1997-06-02</td>\n",
       "      <td>ST</td>\n",
       "      <td>1</td>\n",
       "      <td>A</td>\n",
       "      <td>0</td>\n",
       "      <td>1400</td>\n",
       "      <td>GOOD TO FIRM</td>\n",
       "      <td>40-15</td>\n",
       "      <td>485000.0</td>\n",
       "    </tr>\n",
       "    <tr>\n",
       "      <th>1</th>\n",
       "      <td>1</td>\n",
       "      <td>1997-06-02</td>\n",
       "      <td>ST</td>\n",
       "      <td>2</td>\n",
       "      <td>A</td>\n",
       "      <td>0</td>\n",
       "      <td>1200</td>\n",
       "      <td>GOOD TO FIRM</td>\n",
       "      <td>40-15</td>\n",
       "      <td>485000.0</td>\n",
       "    </tr>\n",
       "    <tr>\n",
       "      <th>2</th>\n",
       "      <td>2</td>\n",
       "      <td>1997-06-02</td>\n",
       "      <td>ST</td>\n",
       "      <td>3</td>\n",
       "      <td>A</td>\n",
       "      <td>0</td>\n",
       "      <td>1400</td>\n",
       "      <td>GOOD TO FIRM</td>\n",
       "      <td>60-40</td>\n",
       "      <td>625000.0</td>\n",
       "    </tr>\n",
       "    <tr>\n",
       "      <th>3</th>\n",
       "      <td>3</td>\n",
       "      <td>1997-06-02</td>\n",
       "      <td>ST</td>\n",
       "      <td>4</td>\n",
       "      <td>A</td>\n",
       "      <td>0</td>\n",
       "      <td>1200</td>\n",
       "      <td>GOOD TO FIRM</td>\n",
       "      <td>120-95</td>\n",
       "      <td>1750000.0</td>\n",
       "    </tr>\n",
       "    <tr>\n",
       "      <th>4</th>\n",
       "      <td>4</td>\n",
       "      <td>1997-06-02</td>\n",
       "      <td>ST</td>\n",
       "      <td>5</td>\n",
       "      <td>A</td>\n",
       "      <td>0</td>\n",
       "      <td>1600</td>\n",
       "      <td>GOOD TO FIRM</td>\n",
       "      <td>60-40</td>\n",
       "      <td>625000.0</td>\n",
       "    </tr>\n",
       "  </tbody>\n",
       "</table>\n",
       "</div>"
      ],
      "text/plain": [
       "   race_id        date venue  race_no config  surface  distance         going  \\\n",
       "0        0  1997-06-02    ST        1      A        0      1400  GOOD TO FIRM   \n",
       "1        1  1997-06-02    ST        2      A        0      1200  GOOD TO FIRM   \n",
       "2        2  1997-06-02    ST        3      A        0      1400  GOOD TO FIRM   \n",
       "3        3  1997-06-02    ST        4      A        0      1200  GOOD TO FIRM   \n",
       "4        4  1997-06-02    ST        5      A        0      1600  GOOD TO FIRM   \n",
       "\n",
       "  horse_ratings      prize  \n",
       "0         40-15   485000.0  \n",
       "1         40-15   485000.0  \n",
       "2         60-40   625000.0  \n",
       "3        120-95  1750000.0  \n",
       "4         60-40   625000.0  "
      ]
     },
     "execution_count": 16,
     "metadata": {},
     "output_type": "execute_result"
    }
   ],
   "source": [
    "df_races.head()"
   ]
  },
  {
   "cell_type": "markdown",
   "id": "581b36c1",
   "metadata": {
    "id": "581b36c1"
   },
   "source": [
    "## Merging Races and Runs "
   ]
  },
  {
   "cell_type": "code",
   "execution_count": 17,
   "id": "b505f48b",
   "metadata": {
    "colab": {
     "base_uri": "https://localhost:8080/",
     "height": 473
    },
    "id": "b505f48b",
    "outputId": "721f8df5-0967-4951-a748-f4943e1f4764"
   },
   "outputs": [
    {
     "data": {
      "text/html": [
       "<div>\n",
       "<style scoped>\n",
       "    .dataframe tbody tr th:only-of-type {\n",
       "        vertical-align: middle;\n",
       "    }\n",
       "\n",
       "    .dataframe tbody tr th {\n",
       "        vertical-align: top;\n",
       "    }\n",
       "\n",
       "    .dataframe thead th {\n",
       "        text-align: right;\n",
       "    }\n",
       "</style>\n",
       "<table border=\"1\" class=\"dataframe\">\n",
       "  <thead>\n",
       "    <tr style=\"text-align: right;\">\n",
       "      <th></th>\n",
       "      <th>race_id</th>\n",
       "      <th>horse_no</th>\n",
       "      <th>horse_id</th>\n",
       "      <th>result</th>\n",
       "      <th>won</th>\n",
       "      <th>lengths_behind</th>\n",
       "      <th>horse_age</th>\n",
       "      <th>horse_country</th>\n",
       "      <th>horse_type</th>\n",
       "      <th>horse_rating</th>\n",
       "      <th>...</th>\n",
       "      <th>jockey_id</th>\n",
       "      <th>date</th>\n",
       "      <th>venue</th>\n",
       "      <th>race_no</th>\n",
       "      <th>config</th>\n",
       "      <th>surface</th>\n",
       "      <th>distance</th>\n",
       "      <th>going</th>\n",
       "      <th>horse_ratings</th>\n",
       "      <th>prize</th>\n",
       "    </tr>\n",
       "  </thead>\n",
       "  <tbody>\n",
       "    <tr>\n",
       "      <th>0</th>\n",
       "      <td>0</td>\n",
       "      <td>1</td>\n",
       "      <td>3917</td>\n",
       "      <td>10</td>\n",
       "      <td>0.0</td>\n",
       "      <td>8.00</td>\n",
       "      <td>3</td>\n",
       "      <td>AUS</td>\n",
       "      <td>Gelding</td>\n",
       "      <td>60</td>\n",
       "      <td>...</td>\n",
       "      <td>2</td>\n",
       "      <td>1997-06-02</td>\n",
       "      <td>ST</td>\n",
       "      <td>1</td>\n",
       "      <td>A</td>\n",
       "      <td>0</td>\n",
       "      <td>1400</td>\n",
       "      <td>GOOD TO FIRM</td>\n",
       "      <td>40-15</td>\n",
       "      <td>485000.0</td>\n",
       "    </tr>\n",
       "    <tr>\n",
       "      <th>1</th>\n",
       "      <td>0</td>\n",
       "      <td>2</td>\n",
       "      <td>2157</td>\n",
       "      <td>8</td>\n",
       "      <td>0.0</td>\n",
       "      <td>5.75</td>\n",
       "      <td>3</td>\n",
       "      <td>NZ</td>\n",
       "      <td>Gelding</td>\n",
       "      <td>60</td>\n",
       "      <td>...</td>\n",
       "      <td>57</td>\n",
       "      <td>1997-06-02</td>\n",
       "      <td>ST</td>\n",
       "      <td>1</td>\n",
       "      <td>A</td>\n",
       "      <td>0</td>\n",
       "      <td>1400</td>\n",
       "      <td>GOOD TO FIRM</td>\n",
       "      <td>40-15</td>\n",
       "      <td>485000.0</td>\n",
       "    </tr>\n",
       "    <tr>\n",
       "      <th>2</th>\n",
       "      <td>0</td>\n",
       "      <td>3</td>\n",
       "      <td>858</td>\n",
       "      <td>7</td>\n",
       "      <td>0.0</td>\n",
       "      <td>4.75</td>\n",
       "      <td>3</td>\n",
       "      <td>NZ</td>\n",
       "      <td>Gelding</td>\n",
       "      <td>60</td>\n",
       "      <td>...</td>\n",
       "      <td>18</td>\n",
       "      <td>1997-06-02</td>\n",
       "      <td>ST</td>\n",
       "      <td>1</td>\n",
       "      <td>A</td>\n",
       "      <td>0</td>\n",
       "      <td>1400</td>\n",
       "      <td>GOOD TO FIRM</td>\n",
       "      <td>40-15</td>\n",
       "      <td>485000.0</td>\n",
       "    </tr>\n",
       "    <tr>\n",
       "      <th>3</th>\n",
       "      <td>0</td>\n",
       "      <td>4</td>\n",
       "      <td>1853</td>\n",
       "      <td>9</td>\n",
       "      <td>0.0</td>\n",
       "      <td>6.25</td>\n",
       "      <td>3</td>\n",
       "      <td>SAF</td>\n",
       "      <td>Gelding</td>\n",
       "      <td>60</td>\n",
       "      <td>...</td>\n",
       "      <td>59</td>\n",
       "      <td>1997-06-02</td>\n",
       "      <td>ST</td>\n",
       "      <td>1</td>\n",
       "      <td>A</td>\n",
       "      <td>0</td>\n",
       "      <td>1400</td>\n",
       "      <td>GOOD TO FIRM</td>\n",
       "      <td>40-15</td>\n",
       "      <td>485000.0</td>\n",
       "    </tr>\n",
       "    <tr>\n",
       "      <th>4</th>\n",
       "      <td>0</td>\n",
       "      <td>5</td>\n",
       "      <td>2796</td>\n",
       "      <td>6</td>\n",
       "      <td>0.0</td>\n",
       "      <td>3.75</td>\n",
       "      <td>3</td>\n",
       "      <td>GB</td>\n",
       "      <td>Gelding</td>\n",
       "      <td>60</td>\n",
       "      <td>...</td>\n",
       "      <td>154</td>\n",
       "      <td>1997-06-02</td>\n",
       "      <td>ST</td>\n",
       "      <td>1</td>\n",
       "      <td>A</td>\n",
       "      <td>0</td>\n",
       "      <td>1400</td>\n",
       "      <td>GOOD TO FIRM</td>\n",
       "      <td>40-15</td>\n",
       "      <td>485000.0</td>\n",
       "    </tr>\n",
       "  </tbody>\n",
       "</table>\n",
       "<p>5 rows × 37 columns</p>\n",
       "</div>"
      ],
      "text/plain": [
       "   race_id  horse_no  horse_id  result  won  lengths_behind  horse_age  \\\n",
       "0        0         1      3917      10  0.0            8.00          3   \n",
       "1        0         2      2157       8  0.0            5.75          3   \n",
       "2        0         3       858       7  0.0            4.75          3   \n",
       "3        0         4      1853       9  0.0            6.25          3   \n",
       "4        0         5      2796       6  0.0            3.75          3   \n",
       "\n",
       "  horse_country horse_type  horse_rating  ... jockey_id        date  venue  \\\n",
       "0           AUS    Gelding            60  ...         2  1997-06-02     ST   \n",
       "1            NZ    Gelding            60  ...        57  1997-06-02     ST   \n",
       "2            NZ    Gelding            60  ...        18  1997-06-02     ST   \n",
       "3           SAF    Gelding            60  ...        59  1997-06-02     ST   \n",
       "4            GB    Gelding            60  ...       154  1997-06-02     ST   \n",
       "\n",
       "   race_no  config  surface  distance         going  horse_ratings     prize  \n",
       "0        1       A        0      1400  GOOD TO FIRM          40-15  485000.0  \n",
       "1        1       A        0      1400  GOOD TO FIRM          40-15  485000.0  \n",
       "2        1       A        0      1400  GOOD TO FIRM          40-15  485000.0  \n",
       "3        1       A        0      1400  GOOD TO FIRM          40-15  485000.0  \n",
       "4        1       A        0      1400  GOOD TO FIRM          40-15  485000.0  \n",
       "\n",
       "[5 rows x 37 columns]"
      ]
     },
     "execution_count": 17,
     "metadata": {},
     "output_type": "execute_result"
    }
   ],
   "source": [
    "df = pd.merge(df_runs, df_races)\n",
    "df.head()"
   ]
  },
  {
   "cell_type": "code",
   "execution_count": 18,
   "id": "95b42a5f",
   "metadata": {
    "colab": {
     "base_uri": "https://localhost:8080/"
    },
    "id": "95b42a5f",
    "outputId": "c6422177-8d5f-4316-979a-2140050af630"
   },
   "outputs": [
    {
     "data": {
      "text/plain": [
       "race_id              int64\n",
       "horse_no             int64\n",
       "horse_id             int64\n",
       "result               int64\n",
       "won                float64\n",
       "lengths_behind     float64\n",
       "horse_age            int64\n",
       "horse_country       object\n",
       "horse_type          object\n",
       "horse_rating         int64\n",
       "horse_gear          object\n",
       "declared_weight    float64\n",
       "actual_weight        int64\n",
       "draw                 int64\n",
       "position_sec1        int64\n",
       "position_sec2        int64\n",
       "position_sec3        int64\n",
       "behind_sec1        float64\n",
       "behind_sec2        float64\n",
       "behind_sec3        float64\n",
       "time1              float64\n",
       "time2              float64\n",
       "time3              float64\n",
       "finish_time        float64\n",
       "win_odds           float64\n",
       "place_odds         float64\n",
       "trainer_id           int64\n",
       "jockey_id            int64\n",
       "date                object\n",
       "venue               object\n",
       "race_no              int64\n",
       "config              object\n",
       "surface              int64\n",
       "distance             int64\n",
       "going               object\n",
       "horse_ratings       object\n",
       "prize              float64\n",
       "dtype: object"
      ]
     },
     "execution_count": 18,
     "metadata": {},
     "output_type": "execute_result"
    }
   ],
   "source": [
    "df.dtypes"
   ]
  },
  {
   "cell_type": "code",
   "execution_count": 19,
   "id": "17566d76",
   "metadata": {
    "colab": {
     "base_uri": "https://localhost:8080/"
    },
    "id": "17566d76",
    "outputId": "95062baa-b956-4d69-caff-1463d1715b6a"
   },
   "outputs": [
    {
     "data": {
      "text/plain": [
       "race_id               0\n",
       "horse_no              0\n",
       "horse_id              0\n",
       "result                0\n",
       "won                   0\n",
       "lengths_behind        0\n",
       "horse_age             0\n",
       "horse_country         0\n",
       "horse_type            0\n",
       "horse_rating          0\n",
       "horse_gear            0\n",
       "declared_weight       0\n",
       "actual_weight         0\n",
       "draw                  0\n",
       "position_sec1         0\n",
       "position_sec2         0\n",
       "position_sec3         0\n",
       "behind_sec1           0\n",
       "behind_sec2           0\n",
       "behind_sec3           0\n",
       "time1                 0\n",
       "time2                 0\n",
       "time3                 0\n",
       "finish_time           0\n",
       "win_odds              0\n",
       "place_odds            0\n",
       "trainer_id            0\n",
       "jockey_id             0\n",
       "date                  0\n",
       "venue                 0\n",
       "race_no               0\n",
       "config                0\n",
       "surface               0\n",
       "distance              0\n",
       "going                 0\n",
       "horse_ratings         0\n",
       "prize              5849\n",
       "dtype: int64"
      ]
     },
     "execution_count": 19,
     "metadata": {},
     "output_type": "execute_result"
    }
   ],
   "source": [
    "df.isna().sum()"
   ]
  },
  {
   "cell_type": "code",
   "execution_count": 20,
   "id": "7fe3f4e8",
   "metadata": {
    "colab": {
     "base_uri": "https://localhost:8080/"
    },
    "id": "7fe3f4e8",
    "outputId": "4b14f9a2-91bf-4b3a-d11f-027488010d6e"
   },
   "outputs": [
    {
     "data": {
      "text/plain": [
       "(75710, 37)"
      ]
     },
     "execution_count": 20,
     "metadata": {},
     "output_type": "execute_result"
    }
   ],
   "source": [
    "df.shape"
   ]
  },
  {
   "cell_type": "code",
   "execution_count": 21,
   "id": "87501d8d",
   "metadata": {
    "id": "87501d8d"
   },
   "outputs": [],
   "source": [
    "df = df.dropna(subset=['prize'])"
   ]
  },
  {
   "cell_type": "code",
   "execution_count": 22,
   "id": "9a305a40",
   "metadata": {
    "colab": {
     "base_uri": "https://localhost:8080/"
    },
    "id": "9a305a40",
    "outputId": "1ba8fc34-33f3-4172-ff3d-fe311f5a5230"
   },
   "outputs": [
    {
     "data": {
      "text/plain": [
       "0"
      ]
     },
     "execution_count": 22,
     "metadata": {},
     "output_type": "execute_result"
    }
   ],
   "source": [
    "df['prize'].isna().sum()"
   ]
  },
  {
   "cell_type": "code",
   "execution_count": 23,
   "id": "30a8498b",
   "metadata": {
    "colab": {
     "base_uri": "https://localhost:8080/"
    },
    "id": "30a8498b",
    "outputId": "2c8e494e-0228-4b71-ff9e-0ce6421e9aae"
   },
   "outputs": [],
   "source": [
    "df['date'] = pd.to_datetime(df['date'])"
   ]
  },
  {
   "cell_type": "code",
   "execution_count": 24,
   "id": "6aad3527",
   "metadata": {
    "colab": {
     "base_uri": "https://localhost:8080/"
    },
    "id": "6aad3527",
    "outputId": "e76aa459-fb3d-4171-89d8-7ac94e58ca27"
   },
   "outputs": [
    {
     "name": "stdout",
     "output_type": "stream",
     "text": [
      "earliest race: 1997-06-02 00:00:00 latest race: 2005-06-05 00:00:00\n"
     ]
    }
   ],
   "source": [
    "first_race= min(df['date'])\n",
    "last_race= max(df['date'])\n",
    "print('earliest race:', first_race, 'latest race:', last_race)"
   ]
  },
  {
   "cell_type": "code",
   "execution_count": 25,
   "id": "53ddce4f",
   "metadata": {
    "colab": {
     "base_uri": "https://localhost:8080/"
    },
    "id": "53ddce4f",
    "outputId": "27fd513e-2f1a-4121-cee9-2a26e6530379"
   },
   "outputs": [
    {
     "name": "stdout",
     "output_type": "stream",
     "text": [
      "number of races: 5585 number of horses: 4215\n"
     ]
    }
   ],
   "source": [
    "num_races = len(pd.unique(df['race_id']))\n",
    "num_horses = len(pd.unique(df['horse_id']))\n",
    "print('number of races:', num_races, 'number of horses:', num_horses)"
   ]
  },
  {
   "cell_type": "code",
   "execution_count": 26,
   "id": "33cee99c",
   "metadata": {
    "colab": {
     "base_uri": "https://localhost:8080/",
     "height": 473
    },
    "id": "33cee99c",
    "outputId": "8f02cac4-c8f3-432f-fc31-e65227204d60"
   },
   "outputs": [
    {
     "data": {
      "text/html": [
       "<div>\n",
       "<style scoped>\n",
       "    .dataframe tbody tr th:only-of-type {\n",
       "        vertical-align: middle;\n",
       "    }\n",
       "\n",
       "    .dataframe tbody tr th {\n",
       "        vertical-align: top;\n",
       "    }\n",
       "\n",
       "    .dataframe thead th {\n",
       "        text-align: right;\n",
       "    }\n",
       "</style>\n",
       "<table border=\"1\" class=\"dataframe\">\n",
       "  <thead>\n",
       "    <tr style=\"text-align: right;\">\n",
       "      <th></th>\n",
       "      <th>race_id</th>\n",
       "      <th>horse_no</th>\n",
       "      <th>horse_id</th>\n",
       "      <th>result</th>\n",
       "      <th>won</th>\n",
       "      <th>lengths_behind</th>\n",
       "      <th>horse_age</th>\n",
       "      <th>horse_country</th>\n",
       "      <th>horse_type</th>\n",
       "      <th>horse_rating</th>\n",
       "      <th>...</th>\n",
       "      <th>jockey_id</th>\n",
       "      <th>date</th>\n",
       "      <th>venue</th>\n",
       "      <th>race_no</th>\n",
       "      <th>config</th>\n",
       "      <th>surface</th>\n",
       "      <th>distance</th>\n",
       "      <th>going</th>\n",
       "      <th>horse_ratings</th>\n",
       "      <th>prize</th>\n",
       "    </tr>\n",
       "  </thead>\n",
       "  <tbody>\n",
       "    <tr>\n",
       "      <th>0</th>\n",
       "      <td>0</td>\n",
       "      <td>1</td>\n",
       "      <td>3917</td>\n",
       "      <td>10</td>\n",
       "      <td>0.0</td>\n",
       "      <td>8.00</td>\n",
       "      <td>3</td>\n",
       "      <td>AUS</td>\n",
       "      <td>Gelding</td>\n",
       "      <td>60</td>\n",
       "      <td>...</td>\n",
       "      <td>2</td>\n",
       "      <td>1997-06-02</td>\n",
       "      <td>ST</td>\n",
       "      <td>1</td>\n",
       "      <td>A</td>\n",
       "      <td>0</td>\n",
       "      <td>1400</td>\n",
       "      <td>GOOD TO FIRM</td>\n",
       "      <td>40-15</td>\n",
       "      <td>485000.0</td>\n",
       "    </tr>\n",
       "    <tr>\n",
       "      <th>1</th>\n",
       "      <td>0</td>\n",
       "      <td>2</td>\n",
       "      <td>2157</td>\n",
       "      <td>8</td>\n",
       "      <td>0.0</td>\n",
       "      <td>5.75</td>\n",
       "      <td>3</td>\n",
       "      <td>NZ</td>\n",
       "      <td>Gelding</td>\n",
       "      <td>60</td>\n",
       "      <td>...</td>\n",
       "      <td>57</td>\n",
       "      <td>1997-06-02</td>\n",
       "      <td>ST</td>\n",
       "      <td>1</td>\n",
       "      <td>A</td>\n",
       "      <td>0</td>\n",
       "      <td>1400</td>\n",
       "      <td>GOOD TO FIRM</td>\n",
       "      <td>40-15</td>\n",
       "      <td>485000.0</td>\n",
       "    </tr>\n",
       "    <tr>\n",
       "      <th>2</th>\n",
       "      <td>0</td>\n",
       "      <td>3</td>\n",
       "      <td>858</td>\n",
       "      <td>7</td>\n",
       "      <td>0.0</td>\n",
       "      <td>4.75</td>\n",
       "      <td>3</td>\n",
       "      <td>NZ</td>\n",
       "      <td>Gelding</td>\n",
       "      <td>60</td>\n",
       "      <td>...</td>\n",
       "      <td>18</td>\n",
       "      <td>1997-06-02</td>\n",
       "      <td>ST</td>\n",
       "      <td>1</td>\n",
       "      <td>A</td>\n",
       "      <td>0</td>\n",
       "      <td>1400</td>\n",
       "      <td>GOOD TO FIRM</td>\n",
       "      <td>40-15</td>\n",
       "      <td>485000.0</td>\n",
       "    </tr>\n",
       "    <tr>\n",
       "      <th>3</th>\n",
       "      <td>0</td>\n",
       "      <td>4</td>\n",
       "      <td>1853</td>\n",
       "      <td>9</td>\n",
       "      <td>0.0</td>\n",
       "      <td>6.25</td>\n",
       "      <td>3</td>\n",
       "      <td>SAF</td>\n",
       "      <td>Gelding</td>\n",
       "      <td>60</td>\n",
       "      <td>...</td>\n",
       "      <td>59</td>\n",
       "      <td>1997-06-02</td>\n",
       "      <td>ST</td>\n",
       "      <td>1</td>\n",
       "      <td>A</td>\n",
       "      <td>0</td>\n",
       "      <td>1400</td>\n",
       "      <td>GOOD TO FIRM</td>\n",
       "      <td>40-15</td>\n",
       "      <td>485000.0</td>\n",
       "    </tr>\n",
       "    <tr>\n",
       "      <th>4</th>\n",
       "      <td>0</td>\n",
       "      <td>5</td>\n",
       "      <td>2796</td>\n",
       "      <td>6</td>\n",
       "      <td>0.0</td>\n",
       "      <td>3.75</td>\n",
       "      <td>3</td>\n",
       "      <td>GB</td>\n",
       "      <td>Gelding</td>\n",
       "      <td>60</td>\n",
       "      <td>...</td>\n",
       "      <td>154</td>\n",
       "      <td>1997-06-02</td>\n",
       "      <td>ST</td>\n",
       "      <td>1</td>\n",
       "      <td>A</td>\n",
       "      <td>0</td>\n",
       "      <td>1400</td>\n",
       "      <td>GOOD TO FIRM</td>\n",
       "      <td>40-15</td>\n",
       "      <td>485000.0</td>\n",
       "    </tr>\n",
       "  </tbody>\n",
       "</table>\n",
       "<p>5 rows × 37 columns</p>\n",
       "</div>"
      ],
      "text/plain": [
       "   race_id  horse_no  horse_id  result  won  lengths_behind  horse_age  \\\n",
       "0        0         1      3917      10  0.0            8.00          3   \n",
       "1        0         2      2157       8  0.0            5.75          3   \n",
       "2        0         3       858       7  0.0            4.75          3   \n",
       "3        0         4      1853       9  0.0            6.25          3   \n",
       "4        0         5      2796       6  0.0            3.75          3   \n",
       "\n",
       "  horse_country horse_type  horse_rating  ... jockey_id       date  venue  \\\n",
       "0           AUS    Gelding            60  ...         2 1997-06-02     ST   \n",
       "1            NZ    Gelding            60  ...        57 1997-06-02     ST   \n",
       "2            NZ    Gelding            60  ...        18 1997-06-02     ST   \n",
       "3           SAF    Gelding            60  ...        59 1997-06-02     ST   \n",
       "4            GB    Gelding            60  ...       154 1997-06-02     ST   \n",
       "\n",
       "   race_no  config  surface  distance         going  horse_ratings     prize  \n",
       "0        1       A        0      1400  GOOD TO FIRM          40-15  485000.0  \n",
       "1        1       A        0      1400  GOOD TO FIRM          40-15  485000.0  \n",
       "2        1       A        0      1400  GOOD TO FIRM          40-15  485000.0  \n",
       "3        1       A        0      1400  GOOD TO FIRM          40-15  485000.0  \n",
       "4        1       A        0      1400  GOOD TO FIRM          40-15  485000.0  \n",
       "\n",
       "[5 rows x 37 columns]"
      ]
     },
     "execution_count": 26,
     "metadata": {},
     "output_type": "execute_result"
    }
   ],
   "source": [
    "df.head()"
   ]
  },
  {
   "cell_type": "code",
   "execution_count": 27,
   "id": "68bf015a",
   "metadata": {
    "colab": {
     "base_uri": "https://localhost:8080/"
    },
    "id": "68bf015a",
    "outputId": "c4d17e13-fe28-4109-a087-4ff1ef7e5521"
   },
   "outputs": [
    {
     "data": {
      "text/plain": [
       "['AUS',\n",
       " 'NZ',\n",
       " 'SAF',\n",
       " 'GB',\n",
       " 'USA',\n",
       " 'IRE',\n",
       " 'FR',\n",
       " 'CAN',\n",
       " 'ARG',\n",
       " 'GER',\n",
       " 'ZIM',\n",
       " 'BRZ',\n",
       " 'JPN',\n",
       " 'GR',\n",
       " 'ITY']"
      ]
     },
     "execution_count": 27,
     "metadata": {},
     "output_type": "execute_result"
    }
   ],
   "source": [
    "df['horse_country'].unique().tolist()"
   ]
  },
  {
   "cell_type": "code",
   "execution_count": 28,
   "id": "7b804bad",
   "metadata": {
    "colab": {
     "base_uri": "https://localhost:8080/"
    },
    "id": "7b804bad",
    "outputId": "308741e8-a727-455a-ae2d-73c1ff0d9775"
   },
   "outputs": [
    {
     "data": {
      "text/plain": [
       "['Gelding', 'Mare', 'Horse', 'Brown', 'Rig', 'Colt', 'Filly', 'Roan', 'Grey']"
      ]
     },
     "execution_count": 28,
     "metadata": {},
     "output_type": "execute_result"
    }
   ],
   "source": [
    "df['horse_type'].unique().tolist()"
   ]
  },
  {
   "cell_type": "code",
   "execution_count": 29,
   "id": "1bc337f9",
   "metadata": {
    "colab": {
     "base_uri": "https://localhost:8080/"
    },
    "id": "1bc337f9",
    "outputId": "f3a95ed1-9b03-4d09-9038-27612efc6305"
   },
   "outputs": [
    {
     "name": "stdout",
     "output_type": "stream",
     "text": [
      "number of jockeys: 164 number of trainers: 147\n"
     ]
    }
   ],
   "source": [
    "# trainers and jockeys are listed as numeric variables but should be categorical\n",
    "num_jockey = len(df['jockey_id'].unique().tolist())\n",
    "num_trainer = len(df['trainer_id'].unique().tolist())\n",
    "\n",
    "print('number of jockeys:', num_jockey, 'number of trainers:', num_trainer)"
   ]
  },
  {
   "cell_type": "code",
   "execution_count": 30,
   "id": "453b7001",
   "metadata": {
    "colab": {
     "base_uri": "https://localhost:8080/"
    },
    "id": "453b7001",
    "outputId": "f8ed2898-abe3-45a5-a957-909086fc116f"
   },
   "outputs": [
    {
     "name": "stdout",
     "output_type": "stream",
     "text": [
      "approx number of horses per trainer: 28.6734693877551 approx number of horses per jockey: 25.701219512195124\n"
     ]
    }
   ],
   "source": [
    "# how many horses could each jockey and trainer have?\n",
    "num_horses_per_trainer = num_horses/(len(df['trainer_id'].unique().tolist()))\n",
    "num_horses_per_jockey = num_horses/(len(df['jockey_id'].unique().tolist()))\n",
    "\n",
    "print('approx number of horses per trainer:', num_horses_per_trainer, 'approx number of horses per jockey:', num_horses_per_jockey)"
   ]
  },
  {
   "cell_type": "code",
   "execution_count": 31,
   "id": "f32de29d",
   "metadata": {
    "id": "f32de29d"
   },
   "outputs": [],
   "source": [
    "df['jockey_id']= df['jockey_id'].astype(str)\n",
    "df['trainer_id']= df['trainer_id'].astype(str)"
   ]
  },
  {
   "cell_type": "code",
   "execution_count": 32,
   "id": "b28f23dc",
   "metadata": {
    "colab": {
     "base_uri": "https://localhost:8080/",
     "height": 300
    },
    "id": "b28f23dc",
    "outputId": "f2abfd8f-7892-4fb9-f014-444af0c76d8d"
   },
   "outputs": [
    {
     "data": {
      "text/html": [
       "<div>\n",
       "<style scoped>\n",
       "    .dataframe tbody tr th:only-of-type {\n",
       "        vertical-align: middle;\n",
       "    }\n",
       "\n",
       "    .dataframe tbody tr th {\n",
       "        vertical-align: top;\n",
       "    }\n",
       "\n",
       "    .dataframe thead th {\n",
       "        text-align: right;\n",
       "    }\n",
       "</style>\n",
       "<table border=\"1\" class=\"dataframe\">\n",
       "  <thead>\n",
       "    <tr style=\"text-align: right;\">\n",
       "      <th></th>\n",
       "      <th>count</th>\n",
       "    </tr>\n",
       "  </thead>\n",
       "  <tbody>\n",
       "    <tr>\n",
       "      <th>count</th>\n",
       "      <td>164.000000</td>\n",
       "    </tr>\n",
       "    <tr>\n",
       "      <th>mean</th>\n",
       "      <td>425.981707</td>\n",
       "    </tr>\n",
       "    <tr>\n",
       "      <th>std</th>\n",
       "      <td>879.517042</td>\n",
       "    </tr>\n",
       "    <tr>\n",
       "      <th>min</th>\n",
       "      <td>1.000000</td>\n",
       "    </tr>\n",
       "    <tr>\n",
       "      <th>25%</th>\n",
       "      <td>3.000000</td>\n",
       "    </tr>\n",
       "    <tr>\n",
       "      <th>50%</th>\n",
       "      <td>15.000000</td>\n",
       "    </tr>\n",
       "    <tr>\n",
       "      <th>75%</th>\n",
       "      <td>227.000000</td>\n",
       "    </tr>\n",
       "    <tr>\n",
       "      <th>max</th>\n",
       "      <td>4167.000000</td>\n",
       "    </tr>\n",
       "  </tbody>\n",
       "</table>\n",
       "</div>"
      ],
      "text/plain": [
       "             count\n",
       "count   164.000000\n",
       "mean    425.981707\n",
       "std     879.517042\n",
       "min       1.000000\n",
       "25%       3.000000\n",
       "50%      15.000000\n",
       "75%     227.000000\n",
       "max    4167.000000"
      ]
     },
     "execution_count": 32,
     "metadata": {},
     "output_type": "execute_result"
    }
   ],
   "source": [
    "# turning jockey and trainer id to strings to get dummies results in 311 new variables.\n",
    "# how many specific horses does each trainer and jockey have?\n",
    "\n",
    "jockey_count = df.groupby(by=['jockey_id'])['horse_id'].count().sort_values(ascending=False).reset_index(name=\"count\")\n",
    "jockey_count.describe()"
   ]
  },
  {
   "cell_type": "code",
   "execution_count": 33,
   "id": "nfwfmOz6quXr",
   "metadata": {
    "id": "nfwfmOz6quXr"
   },
   "outputs": [],
   "source": [
    "#group by jockey_id and years and see \n",
    "df['Years']= df['date'].apply(lambda x: x.year)\n",
    "jockey_count_year = df.groupby(by=['jockey_id', 'Years'])['horse_id'].count().sort_values(ascending=False).reset_index(name=\"count\")\n"
   ]
  },
  {
   "cell_type": "code",
   "execution_count": 34,
   "id": "P3glXu-3uF9W",
   "metadata": {
    "colab": {
     "base_uri": "https://localhost:8080/",
     "height": 363
    },
    "id": "P3glXu-3uF9W",
    "outputId": "d30810b9-66e0-45ba-cd14-ac73360aee9d"
   },
   "outputs": [
    {
     "data": {
      "text/html": [
       "<div>\n",
       "<style scoped>\n",
       "    .dataframe tbody tr th:only-of-type {\n",
       "        vertical-align: middle;\n",
       "    }\n",
       "\n",
       "    .dataframe tbody tr th {\n",
       "        vertical-align: top;\n",
       "    }\n",
       "\n",
       "    .dataframe thead th {\n",
       "        text-align: right;\n",
       "    }\n",
       "</style>\n",
       "<table border=\"1\" class=\"dataframe\">\n",
       "  <thead>\n",
       "    <tr style=\"text-align: right;\">\n",
       "      <th></th>\n",
       "      <th>jockey_id</th>\n",
       "      <th>Years</th>\n",
       "      <th>count</th>\n",
       "    </tr>\n",
       "  </thead>\n",
       "  <tbody>\n",
       "    <tr>\n",
       "      <th>0</th>\n",
       "      <td>64</td>\n",
       "      <td>2002</td>\n",
       "      <td>631</td>\n",
       "    </tr>\n",
       "    <tr>\n",
       "      <th>1</th>\n",
       "      <td>2</td>\n",
       "      <td>1999</td>\n",
       "      <td>625</td>\n",
       "    </tr>\n",
       "    <tr>\n",
       "      <th>2</th>\n",
       "      <td>95</td>\n",
       "      <td>2003</td>\n",
       "      <td>599</td>\n",
       "    </tr>\n",
       "    <tr>\n",
       "      <th>3</th>\n",
       "      <td>2</td>\n",
       "      <td>2002</td>\n",
       "      <td>593</td>\n",
       "    </tr>\n",
       "    <tr>\n",
       "      <th>4</th>\n",
       "      <td>110</td>\n",
       "      <td>2003</td>\n",
       "      <td>586</td>\n",
       "    </tr>\n",
       "    <tr>\n",
       "      <th>5</th>\n",
       "      <td>2</td>\n",
       "      <td>2003</td>\n",
       "      <td>574</td>\n",
       "    </tr>\n",
       "    <tr>\n",
       "      <th>6</th>\n",
       "      <td>162</td>\n",
       "      <td>1999</td>\n",
       "      <td>566</td>\n",
       "    </tr>\n",
       "    <tr>\n",
       "      <th>7</th>\n",
       "      <td>2</td>\n",
       "      <td>2000</td>\n",
       "      <td>559</td>\n",
       "    </tr>\n",
       "    <tr>\n",
       "      <th>8</th>\n",
       "      <td>95</td>\n",
       "      <td>2004</td>\n",
       "      <td>558</td>\n",
       "    </tr>\n",
       "    <tr>\n",
       "      <th>9</th>\n",
       "      <td>50</td>\n",
       "      <td>2001</td>\n",
       "      <td>537</td>\n",
       "    </tr>\n",
       "  </tbody>\n",
       "</table>\n",
       "</div>"
      ],
      "text/plain": [
       "  jockey_id  Years  count\n",
       "0        64   2002    631\n",
       "1         2   1999    625\n",
       "2        95   2003    599\n",
       "3         2   2002    593\n",
       "4       110   2003    586\n",
       "5         2   2003    574\n",
       "6       162   1999    566\n",
       "7         2   2000    559\n",
       "8        95   2004    558\n",
       "9        50   2001    537"
      ]
     },
     "execution_count": 34,
     "metadata": {},
     "output_type": "execute_result"
    }
   ],
   "source": [
    "jockey_count_year.head(10)"
   ]
  },
  {
   "cell_type": "code",
   "execution_count": 35,
   "id": "o9_UGIYhuMy4",
   "metadata": {
    "colab": {
     "base_uri": "https://localhost:8080/",
     "height": 300
    },
    "id": "o9_UGIYhuMy4",
    "outputId": "d158c3c3-4bbe-429b-f09b-706920a7cd5e"
   },
   "outputs": [
    {
     "data": {
      "text/html": [
       "<div>\n",
       "<style scoped>\n",
       "    .dataframe tbody tr th:only-of-type {\n",
       "        vertical-align: middle;\n",
       "    }\n",
       "\n",
       "    .dataframe tbody tr th {\n",
       "        vertical-align: top;\n",
       "    }\n",
       "\n",
       "    .dataframe thead th {\n",
       "        text-align: right;\n",
       "    }\n",
       "</style>\n",
       "<table border=\"1\" class=\"dataframe\">\n",
       "  <thead>\n",
       "    <tr style=\"text-align: right;\">\n",
       "      <th></th>\n",
       "      <th>Years</th>\n",
       "      <th>count</th>\n",
       "    </tr>\n",
       "  </thead>\n",
       "  <tbody>\n",
       "    <tr>\n",
       "      <th>count</th>\n",
       "      <td>502.000000</td>\n",
       "      <td>502.000000</td>\n",
       "    </tr>\n",
       "    <tr>\n",
       "      <th>mean</th>\n",
       "      <td>2001.029880</td>\n",
       "      <td>139.165339</td>\n",
       "    </tr>\n",
       "    <tr>\n",
       "      <th>std</th>\n",
       "      <td>2.381965</td>\n",
       "      <td>172.323057</td>\n",
       "    </tr>\n",
       "    <tr>\n",
       "      <th>min</th>\n",
       "      <td>1997.000000</td>\n",
       "      <td>1.000000</td>\n",
       "    </tr>\n",
       "    <tr>\n",
       "      <th>25%</th>\n",
       "      <td>1999.000000</td>\n",
       "      <td>3.000000</td>\n",
       "    </tr>\n",
       "    <tr>\n",
       "      <th>50%</th>\n",
       "      <td>2001.000000</td>\n",
       "      <td>39.500000</td>\n",
       "    </tr>\n",
       "    <tr>\n",
       "      <th>75%</th>\n",
       "      <td>2003.000000</td>\n",
       "      <td>249.750000</td>\n",
       "    </tr>\n",
       "    <tr>\n",
       "      <th>max</th>\n",
       "      <td>2005.000000</td>\n",
       "      <td>631.000000</td>\n",
       "    </tr>\n",
       "  </tbody>\n",
       "</table>\n",
       "</div>"
      ],
      "text/plain": [
       "             Years       count\n",
       "count   502.000000  502.000000\n",
       "mean   2001.029880  139.165339\n",
       "std       2.381965  172.323057\n",
       "min    1997.000000    1.000000\n",
       "25%    1999.000000    3.000000\n",
       "50%    2001.000000   39.500000\n",
       "75%    2003.000000  249.750000\n",
       "max    2005.000000  631.000000"
      ]
     },
     "execution_count": 35,
     "metadata": {},
     "output_type": "execute_result"
    }
   ],
   "source": [
    "jockey_count_year.describe()"
   ]
  },
  {
   "cell_type": "code",
   "execution_count": 36,
   "id": "74db8b42",
   "metadata": {
    "colab": {
     "base_uri": "https://localhost:8080/",
     "height": 676
    },
    "id": "74db8b42",
    "outputId": "cb4e67ab-64db-479a-c12e-8fffd5ce43d1"
   },
   "outputs": [
    {
     "data": {
      "text/html": [
       "<div>\n",
       "<style scoped>\n",
       "    .dataframe tbody tr th:only-of-type {\n",
       "        vertical-align: middle;\n",
       "    }\n",
       "\n",
       "    .dataframe tbody tr th {\n",
       "        vertical-align: top;\n",
       "    }\n",
       "\n",
       "    .dataframe thead th {\n",
       "        text-align: right;\n",
       "    }\n",
       "</style>\n",
       "<table border=\"1\" class=\"dataframe\">\n",
       "  <thead>\n",
       "    <tr style=\"text-align: right;\">\n",
       "      <th></th>\n",
       "      <th>jockey_id</th>\n",
       "      <th>count</th>\n",
       "    </tr>\n",
       "  </thead>\n",
       "  <tbody>\n",
       "    <tr>\n",
       "      <th>0</th>\n",
       "      <td>2</td>\n",
       "      <td>4167</td>\n",
       "    </tr>\n",
       "    <tr>\n",
       "      <th>1</th>\n",
       "      <td>64</td>\n",
       "      <td>3866</td>\n",
       "    </tr>\n",
       "    <tr>\n",
       "      <th>2</th>\n",
       "      <td>18</td>\n",
       "      <td>3487</td>\n",
       "    </tr>\n",
       "    <tr>\n",
       "      <th>3</th>\n",
       "      <td>63</td>\n",
       "      <td>3376</td>\n",
       "    </tr>\n",
       "    <tr>\n",
       "      <th>4</th>\n",
       "      <td>34</td>\n",
       "      <td>3138</td>\n",
       "    </tr>\n",
       "    <tr>\n",
       "      <th>5</th>\n",
       "      <td>50</td>\n",
       "      <td>3075</td>\n",
       "    </tr>\n",
       "    <tr>\n",
       "      <th>6</th>\n",
       "      <td>138</td>\n",
       "      <td>2921</td>\n",
       "    </tr>\n",
       "    <tr>\n",
       "      <th>7</th>\n",
       "      <td>40</td>\n",
       "      <td>2900</td>\n",
       "    </tr>\n",
       "    <tr>\n",
       "      <th>8</th>\n",
       "      <td>162</td>\n",
       "      <td>2674</td>\n",
       "    </tr>\n",
       "    <tr>\n",
       "      <th>9</th>\n",
       "      <td>76</td>\n",
       "      <td>2570</td>\n",
       "    </tr>\n",
       "    <tr>\n",
       "      <th>10</th>\n",
       "      <td>175</td>\n",
       "      <td>2497</td>\n",
       "    </tr>\n",
       "    <tr>\n",
       "      <th>11</th>\n",
       "      <td>149</td>\n",
       "      <td>2194</td>\n",
       "    </tr>\n",
       "    <tr>\n",
       "      <th>12</th>\n",
       "      <td>151</td>\n",
       "      <td>2161</td>\n",
       "    </tr>\n",
       "    <tr>\n",
       "      <th>13</th>\n",
       "      <td>91</td>\n",
       "      <td>2089</td>\n",
       "    </tr>\n",
       "    <tr>\n",
       "      <th>14</th>\n",
       "      <td>150</td>\n",
       "      <td>1838</td>\n",
       "    </tr>\n",
       "    <tr>\n",
       "      <th>15</th>\n",
       "      <td>95</td>\n",
       "      <td>1699</td>\n",
       "    </tr>\n",
       "    <tr>\n",
       "      <th>16</th>\n",
       "      <td>110</td>\n",
       "      <td>1648</td>\n",
       "    </tr>\n",
       "    <tr>\n",
       "      <th>17</th>\n",
       "      <td>57</td>\n",
       "      <td>1636</td>\n",
       "    </tr>\n",
       "    <tr>\n",
       "      <th>18</th>\n",
       "      <td>21</td>\n",
       "      <td>1593</td>\n",
       "    </tr>\n",
       "    <tr>\n",
       "      <th>19</th>\n",
       "      <td>177</td>\n",
       "      <td>1531</td>\n",
       "    </tr>\n",
       "  </tbody>\n",
       "</table>\n",
       "</div>"
      ],
      "text/plain": [
       "   jockey_id  count\n",
       "0          2   4167\n",
       "1         64   3866\n",
       "2         18   3487\n",
       "3         63   3376\n",
       "4         34   3138\n",
       "5         50   3075\n",
       "6        138   2921\n",
       "7         40   2900\n",
       "8        162   2674\n",
       "9         76   2570\n",
       "10       175   2497\n",
       "11       149   2194\n",
       "12       151   2161\n",
       "13        91   2089\n",
       "14       150   1838\n",
       "15        95   1699\n",
       "16       110   1648\n",
       "17        57   1636\n",
       "18        21   1593\n",
       "19       177   1531"
      ]
     },
     "execution_count": 36,
     "metadata": {},
     "output_type": "execute_result"
    }
   ],
   "source": [
    "# is it reasonable that a single jockey has >4,000 horses?\n",
    "jockey_count.head(20)\n",
    "\n"
   ]
  },
  {
   "cell_type": "code",
   "execution_count": 37,
   "id": "323e9f39",
   "metadata": {
    "colab": {
     "base_uri": "https://localhost:8080/",
     "height": 316
    },
    "id": "323e9f39",
    "outputId": "70a5739e-826a-442f-bd5e-91b353f16805"
   },
   "outputs": [
    {
     "data": {
      "text/plain": [
       "array([[<AxesSubplot:title={'center':'count'}>]], dtype=object)"
      ]
     },
     "execution_count": 37,
     "metadata": {},
     "output_type": "execute_result"
    },
    {
     "data": {
      "image/png": "[encoded data removed]",
      "text/plain": [
       "<Figure size 432x288 with 1 Axes>"
      ]
     },
     "metadata": {
      "needs_background": "light"
     },
     "output_type": "display_data"
    }
   ],
   "source": [
    "jockey_count.hist(['count'])"
   ]
  },
  {
   "cell_type": "code",
   "execution_count": 38,
   "id": "46752735",
   "metadata": {
    "colab": {
     "base_uri": "https://localhost:8080/"
    },
    "id": "46752735",
    "outputId": "5f01ea42-7b82-41b6-867d-68d6914c2894"
   },
   "outputs": [
    {
     "data": {
      "text/plain": [
       "23"
      ]
     },
     "execution_count": 38,
     "metadata": {},
     "output_type": "execute_result"
    }
   ],
   "source": [
    "sum(jockey_count['count'] > 1000)"
   ]
  },
  {
   "cell_type": "code",
   "execution_count": 39,
   "id": "26105622",
   "metadata": {
    "colab": {
     "base_uri": "https://localhost:8080/"
    },
    "id": "26105622",
    "outputId": "d05ac5ba-2729-4061-e7c8-5143371a3889"
   },
   "outputs": [
    {
     "name": "stdout",
     "output_type": "stream",
     "text": [
      "Percent of jockeys with over 1,000 horses: 14.02439024390244 %\n"
     ]
    }
   ],
   "source": [
    "per_j = (sum(jockey_count['count'] > 1000)/num_jockey)*100\n",
    "print('Percent of jockeys with over 1,000 horses:', per_j, '%')"
   ]
  },
  {
   "cell_type": "code",
   "execution_count": 40,
   "id": "59faab1b",
   "metadata": {
    "colab": {
     "base_uri": "https://localhost:8080/",
     "height": 300
    },
    "id": "59faab1b",
    "outputId": "68320872-bd40-48cf-b201-4e13cdc5829c"
   },
   "outputs": [
    {
     "data": {
      "text/html": [
       "<div>\n",
       "<style scoped>\n",
       "    .dataframe tbody tr th:only-of-type {\n",
       "        vertical-align: middle;\n",
       "    }\n",
       "\n",
       "    .dataframe tbody tr th {\n",
       "        vertical-align: top;\n",
       "    }\n",
       "\n",
       "    .dataframe thead th {\n",
       "        text-align: right;\n",
       "    }\n",
       "</style>\n",
       "<table border=\"1\" class=\"dataframe\">\n",
       "  <thead>\n",
       "    <tr style=\"text-align: right;\">\n",
       "      <th></th>\n",
       "      <th>count</th>\n",
       "    </tr>\n",
       "  </thead>\n",
       "  <tbody>\n",
       "    <tr>\n",
       "      <th>count</th>\n",
       "      <td>147.000000</td>\n",
       "    </tr>\n",
       "    <tr>\n",
       "      <th>mean</th>\n",
       "      <td>475.244898</td>\n",
       "    </tr>\n",
       "    <tr>\n",
       "      <th>std</th>\n",
       "      <td>1080.163443</td>\n",
       "    </tr>\n",
       "    <tr>\n",
       "      <th>min</th>\n",
       "      <td>1.000000</td>\n",
       "    </tr>\n",
       "    <tr>\n",
       "      <th>25%</th>\n",
       "      <td>1.000000</td>\n",
       "    </tr>\n",
       "    <tr>\n",
       "      <th>50%</th>\n",
       "      <td>2.000000</td>\n",
       "    </tr>\n",
       "    <tr>\n",
       "      <th>75%</th>\n",
       "      <td>5.000000</td>\n",
       "    </tr>\n",
       "    <tr>\n",
       "      <th>max</th>\n",
       "      <td>4201.000000</td>\n",
       "    </tr>\n",
       "  </tbody>\n",
       "</table>\n",
       "</div>"
      ],
      "text/plain": [
       "             count\n",
       "count   147.000000\n",
       "mean    475.244898\n",
       "std    1080.163443\n",
       "min       1.000000\n",
       "25%       1.000000\n",
       "50%       2.000000\n",
       "75%       5.000000\n",
       "max    4201.000000"
      ]
     },
     "execution_count": 40,
     "metadata": {},
     "output_type": "execute_result"
    }
   ],
   "source": [
    "trainer_count = df.groupby(by=['trainer_id'])['horse_id'].count().sort_values(ascending=False).reset_index(name=\"count\")\n",
    "trainer_count.describe()"
   ]
  },
  {
   "cell_type": "code",
   "execution_count": 41,
   "id": "b2835b9f",
   "metadata": {
    "colab": {
     "base_uri": "https://localhost:8080/",
     "height": 676
    },
    "id": "b2835b9f",
    "outputId": "0b6e4d28-42ae-4a3a-b55c-82cc8eba2cff"
   },
   "outputs": [
    {
     "data": {
      "text/html": [
       "<div>\n",
       "<style scoped>\n",
       "    .dataframe tbody tr th:only-of-type {\n",
       "        vertical-align: middle;\n",
       "    }\n",
       "\n",
       "    .dataframe tbody tr th {\n",
       "        vertical-align: top;\n",
       "    }\n",
       "\n",
       "    .dataframe thead th {\n",
       "        text-align: right;\n",
       "    }\n",
       "</style>\n",
       "<table border=\"1\" class=\"dataframe\">\n",
       "  <thead>\n",
       "    <tr style=\"text-align: right;\">\n",
       "      <th></th>\n",
       "      <th>trainer_id</th>\n",
       "      <th>count</th>\n",
       "    </tr>\n",
       "  </thead>\n",
       "  <tbody>\n",
       "    <tr>\n",
       "      <th>0</th>\n",
       "      <td>137</td>\n",
       "      <td>4201</td>\n",
       "    </tr>\n",
       "    <tr>\n",
       "      <th>1</th>\n",
       "      <td>75</td>\n",
       "      <td>4031</td>\n",
       "    </tr>\n",
       "    <tr>\n",
       "      <th>2</th>\n",
       "      <td>97</td>\n",
       "      <td>4030</td>\n",
       "    </tr>\n",
       "    <tr>\n",
       "      <th>3</th>\n",
       "      <td>47</td>\n",
       "      <td>3928</td>\n",
       "    </tr>\n",
       "    <tr>\n",
       "      <th>4</th>\n",
       "      <td>7</td>\n",
       "      <td>3643</td>\n",
       "    </tr>\n",
       "    <tr>\n",
       "      <th>5</th>\n",
       "      <td>164</td>\n",
       "      <td>3366</td>\n",
       "    </tr>\n",
       "    <tr>\n",
       "      <th>6</th>\n",
       "      <td>118</td>\n",
       "      <td>3354</td>\n",
       "    </tr>\n",
       "    <tr>\n",
       "      <th>7</th>\n",
       "      <td>138</td>\n",
       "      <td>3158</td>\n",
       "    </tr>\n",
       "    <tr>\n",
       "      <th>8</th>\n",
       "      <td>80</td>\n",
       "      <td>2773</td>\n",
       "    </tr>\n",
       "    <tr>\n",
       "      <th>9</th>\n",
       "      <td>98</td>\n",
       "      <td>2771</td>\n",
       "    </tr>\n",
       "    <tr>\n",
       "      <th>10</th>\n",
       "      <td>54</td>\n",
       "      <td>2757</td>\n",
       "    </tr>\n",
       "    <tr>\n",
       "      <th>11</th>\n",
       "      <td>55</td>\n",
       "      <td>2740</td>\n",
       "    </tr>\n",
       "    <tr>\n",
       "      <th>12</th>\n",
       "      <td>69</td>\n",
       "      <td>2706</td>\n",
       "    </tr>\n",
       "    <tr>\n",
       "      <th>13</th>\n",
       "      <td>38</td>\n",
       "      <td>2656</td>\n",
       "    </tr>\n",
       "    <tr>\n",
       "      <th>14</th>\n",
       "      <td>4</td>\n",
       "      <td>2650</td>\n",
       "    </tr>\n",
       "    <tr>\n",
       "      <th>15</th>\n",
       "      <td>117</td>\n",
       "      <td>2545</td>\n",
       "    </tr>\n",
       "    <tr>\n",
       "      <th>16</th>\n",
       "      <td>29</td>\n",
       "      <td>2425</td>\n",
       "    </tr>\n",
       "    <tr>\n",
       "      <th>17</th>\n",
       "      <td>9</td>\n",
       "      <td>2237</td>\n",
       "    </tr>\n",
       "    <tr>\n",
       "      <th>18</th>\n",
       "      <td>60</td>\n",
       "      <td>2137</td>\n",
       "    </tr>\n",
       "    <tr>\n",
       "      <th>19</th>\n",
       "      <td>132</td>\n",
       "      <td>2099</td>\n",
       "    </tr>\n",
       "  </tbody>\n",
       "</table>\n",
       "</div>"
      ],
      "text/plain": [
       "   trainer_id  count\n",
       "0         137   4201\n",
       "1          75   4031\n",
       "2          97   4030\n",
       "3          47   3928\n",
       "4           7   3643\n",
       "5         164   3366\n",
       "6         118   3354\n",
       "7         138   3158\n",
       "8          80   2773\n",
       "9          98   2771\n",
       "10         54   2757\n",
       "11         55   2740\n",
       "12         69   2706\n",
       "13         38   2656\n",
       "14          4   2650\n",
       "15        117   2545\n",
       "16         29   2425\n",
       "17          9   2237\n",
       "18         60   2137\n",
       "19        132   2099"
      ]
     },
     "execution_count": 41,
     "metadata": {},
     "output_type": "execute_result"
    }
   ],
   "source": [
    "trainer_count.head(20)"
   ]
  },
  {
   "cell_type": "code",
   "execution_count": 42,
   "id": "050312cc",
   "metadata": {
    "colab": {
     "base_uri": "https://localhost:8080/",
     "height": 316
    },
    "id": "050312cc",
    "outputId": "fd3f4b2e-e8a1-43c2-ddfd-00ffca6206ba"
   },
   "outputs": [
    {
     "data": {
      "text/plain": [
       "array([[<AxesSubplot:title={'center':'count'}>]], dtype=object)"
      ]
     },
     "execution_count": 42,
     "metadata": {},
     "output_type": "execute_result"
    },
    {
     "data": {
      "image/png": "[encoded data removed]",
      "text/plain": [
       "<Figure size 432x288 with 1 Axes>"
      ]
     },
     "metadata": {
      "needs_background": "light"
     },
     "output_type": "display_data"
    }
   ],
   "source": [
    "trainer_count.hist(['count'])"
   ]
  },
  {
   "cell_type": "code",
   "execution_count": 43,
   "id": "abb885ed",
   "metadata": {
    "colab": {
     "base_uri": "https://localhost:8080/"
    },
    "id": "abb885ed",
    "outputId": "b4febf97-0d01-4499-b2bc-a7cb5a7310fd"
   },
   "outputs": [
    {
     "data": {
      "text/plain": [
       "26"
      ]
     },
     "execution_count": 43,
     "metadata": {},
     "output_type": "execute_result"
    }
   ],
   "source": [
    "sum(trainer_count['count'] > 1000)"
   ]
  },
  {
   "cell_type": "code",
   "execution_count": 44,
   "id": "a2699f61",
   "metadata": {
    "colab": {
     "base_uri": "https://localhost:8080/"
    },
    "id": "a2699f61",
    "outputId": "f2207f69-c07b-4df7-83f5-1a86adf8a976"
   },
   "outputs": [
    {
     "name": "stdout",
     "output_type": "stream",
     "text": [
      "Percent of trainers with over 1,000 horses: 17.687074829931973 %\n"
     ]
    }
   ],
   "source": [
    "per_t = (sum(trainer_count['count'] > 1000)/num_trainer)*100\n",
    "print('Percent of trainers with over 1,000 horses:', per_t, '%')"
   ]
  },
  {
   "cell_type": "code",
   "execution_count": 45,
   "id": "e1f7b946",
   "metadata": {
    "id": "e1f7b946"
   },
   "outputs": [],
   "source": [
    "df['trainer_horse_co'] = df.groupby('trainer_id')['horse_id'].transform('count')"
   ]
  },
  {
   "cell_type": "code",
   "execution_count": 46,
   "id": "7648c087",
   "metadata": {
    "id": "7648c087"
   },
   "outputs": [],
   "source": [
    "df['jockey_horse_co'] = df.groupby('jockey_id')['horse_id'].transform('count')"
   ]
  },
  {
   "cell_type": "code",
   "execution_count": 47,
   "id": "ab9abf0b",
   "metadata": {
    "id": "ab9abf0b"
   },
   "outputs": [],
   "source": [
    "# subset to only horses of trainers and jockeys who have >1,000 horses\n",
    "df = df.loc[df['trainer_horse_co'] > 1000]"
   ]
  },
  {
   "cell_type": "code",
   "execution_count": 48,
   "id": "c7247de1",
   "metadata": {
    "colab": {
     "base_uri": "https://localhost:8080/"
    },
    "id": "c7247de1",
    "outputId": "0217468b-e62e-41d7-cce1-9e14f5ba28d7"
   },
   "outputs": [
    {
     "data": {
      "text/plain": [
       "(68955, 40)"
      ]
     },
     "execution_count": 48,
     "metadata": {},
     "output_type": "execute_result"
    }
   ],
   "source": [
    "df.shape"
   ]
  },
  {
   "cell_type": "code",
   "execution_count": 49,
   "id": "e5870c9d",
   "metadata": {
    "id": "e5870c9d"
   },
   "outputs": [],
   "source": [
    "df = df.loc[df['jockey_horse_co'] > 1000]"
   ]
  },
  {
   "cell_type": "code",
   "execution_count": 50,
   "id": "7c9927d4",
   "metadata": {
    "colab": {
     "base_uri": "https://localhost:8080/"
    },
    "id": "7c9927d4",
    "outputId": "4a53e834-5662-414d-ca91-3be8dbf310f2"
   },
   "outputs": [
    {
     "data": {
      "text/plain": [
       "(54451, 40)"
      ]
     },
     "execution_count": 50,
     "metadata": {},
     "output_type": "execute_result"
    }
   ],
   "source": [
    "df.shape"
   ]
  },
  {
   "cell_type": "code",
   "execution_count": 51,
   "id": "1031efe4",
   "metadata": {
    "colab": {
     "base_uri": "https://localhost:8080/",
     "height": 473
    },
    "id": "1031efe4",
    "outputId": "6177ce87-f29b-4839-e9e5-c857ec1f953c"
   },
   "outputs": [
    {
     "data": {
      "text/html": [
       "<div>\n",
       "<style scoped>\n",
       "    .dataframe tbody tr th:only-of-type {\n",
       "        vertical-align: middle;\n",
       "    }\n",
       "\n",
       "    .dataframe tbody tr th {\n",
       "        vertical-align: top;\n",
       "    }\n",
       "\n",
       "    .dataframe thead th {\n",
       "        text-align: right;\n",
       "    }\n",
       "</style>\n",
       "<table border=\"1\" class=\"dataframe\">\n",
       "  <thead>\n",
       "    <tr style=\"text-align: right;\">\n",
       "      <th></th>\n",
       "      <th>race_id</th>\n",
       "      <th>horse_no</th>\n",
       "      <th>horse_id</th>\n",
       "      <th>result</th>\n",
       "      <th>won</th>\n",
       "      <th>lengths_behind</th>\n",
       "      <th>horse_age</th>\n",
       "      <th>horse_country</th>\n",
       "      <th>horse_type</th>\n",
       "      <th>horse_rating</th>\n",
       "      <th>...</th>\n",
       "      <th>race_no</th>\n",
       "      <th>config</th>\n",
       "      <th>surface</th>\n",
       "      <th>distance</th>\n",
       "      <th>going</th>\n",
       "      <th>horse_ratings</th>\n",
       "      <th>prize</th>\n",
       "      <th>Years</th>\n",
       "      <th>trainer_horse_co</th>\n",
       "      <th>jockey_horse_co</th>\n",
       "    </tr>\n",
       "  </thead>\n",
       "  <tbody>\n",
       "    <tr>\n",
       "      <th>0</th>\n",
       "      <td>0</td>\n",
       "      <td>1</td>\n",
       "      <td>3917</td>\n",
       "      <td>10</td>\n",
       "      <td>0.0</td>\n",
       "      <td>8.00</td>\n",
       "      <td>3</td>\n",
       "      <td>AUS</td>\n",
       "      <td>Gelding</td>\n",
       "      <td>60</td>\n",
       "      <td>...</td>\n",
       "      <td>1</td>\n",
       "      <td>A</td>\n",
       "      <td>0</td>\n",
       "      <td>1400</td>\n",
       "      <td>GOOD TO FIRM</td>\n",
       "      <td>40-15</td>\n",
       "      <td>485000.0</td>\n",
       "      <td>1997</td>\n",
       "      <td>3354</td>\n",
       "      <td>4167</td>\n",
       "    </tr>\n",
       "    <tr>\n",
       "      <th>1</th>\n",
       "      <td>0</td>\n",
       "      <td>2</td>\n",
       "      <td>2157</td>\n",
       "      <td>8</td>\n",
       "      <td>0.0</td>\n",
       "      <td>5.75</td>\n",
       "      <td>3</td>\n",
       "      <td>NZ</td>\n",
       "      <td>Gelding</td>\n",
       "      <td>60</td>\n",
       "      <td>...</td>\n",
       "      <td>1</td>\n",
       "      <td>A</td>\n",
       "      <td>0</td>\n",
       "      <td>1400</td>\n",
       "      <td>GOOD TO FIRM</td>\n",
       "      <td>40-15</td>\n",
       "      <td>485000.0</td>\n",
       "      <td>1997</td>\n",
       "      <td>3366</td>\n",
       "      <td>1636</td>\n",
       "    </tr>\n",
       "    <tr>\n",
       "      <th>2</th>\n",
       "      <td>0</td>\n",
       "      <td>3</td>\n",
       "      <td>858</td>\n",
       "      <td>7</td>\n",
       "      <td>0.0</td>\n",
       "      <td>4.75</td>\n",
       "      <td>3</td>\n",
       "      <td>NZ</td>\n",
       "      <td>Gelding</td>\n",
       "      <td>60</td>\n",
       "      <td>...</td>\n",
       "      <td>1</td>\n",
       "      <td>A</td>\n",
       "      <td>0</td>\n",
       "      <td>1400</td>\n",
       "      <td>GOOD TO FIRM</td>\n",
       "      <td>40-15</td>\n",
       "      <td>485000.0</td>\n",
       "      <td>1997</td>\n",
       "      <td>4201</td>\n",
       "      <td>3487</td>\n",
       "    </tr>\n",
       "    <tr>\n",
       "      <th>5</th>\n",
       "      <td>0</td>\n",
       "      <td>6</td>\n",
       "      <td>3296</td>\n",
       "      <td>3</td>\n",
       "      <td>0.0</td>\n",
       "      <td>1.25</td>\n",
       "      <td>3</td>\n",
       "      <td>NZ</td>\n",
       "      <td>Gelding</td>\n",
       "      <td>60</td>\n",
       "      <td>...</td>\n",
       "      <td>1</td>\n",
       "      <td>A</td>\n",
       "      <td>0</td>\n",
       "      <td>1400</td>\n",
       "      <td>GOOD TO FIRM</td>\n",
       "      <td>40-15</td>\n",
       "      <td>485000.0</td>\n",
       "      <td>1997</td>\n",
       "      <td>2757</td>\n",
       "      <td>3138</td>\n",
       "    </tr>\n",
       "    <tr>\n",
       "      <th>6</th>\n",
       "      <td>0</td>\n",
       "      <td>7</td>\n",
       "      <td>911</td>\n",
       "      <td>12</td>\n",
       "      <td>0.0</td>\n",
       "      <td>9.50</td>\n",
       "      <td>3</td>\n",
       "      <td>NZ</td>\n",
       "      <td>Gelding</td>\n",
       "      <td>60</td>\n",
       "      <td>...</td>\n",
       "      <td>1</td>\n",
       "      <td>A</td>\n",
       "      <td>0</td>\n",
       "      <td>1400</td>\n",
       "      <td>GOOD TO FIRM</td>\n",
       "      <td>40-15</td>\n",
       "      <td>485000.0</td>\n",
       "      <td>1997</td>\n",
       "      <td>2740</td>\n",
       "      <td>2194</td>\n",
       "    </tr>\n",
       "  </tbody>\n",
       "</table>\n",
       "<p>5 rows × 40 columns</p>\n",
       "</div>"
      ],
      "text/plain": [
       "   race_id  horse_no  horse_id  result  won  lengths_behind  horse_age  \\\n",
       "0        0         1      3917      10  0.0            8.00          3   \n",
       "1        0         2      2157       8  0.0            5.75          3   \n",
       "2        0         3       858       7  0.0            4.75          3   \n",
       "5        0         6      3296       3  0.0            1.25          3   \n",
       "6        0         7       911      12  0.0            9.50          3   \n",
       "\n",
       "  horse_country horse_type  horse_rating  ... race_no  config  surface  \\\n",
       "0           AUS    Gelding            60  ...       1       A        0   \n",
       "1            NZ    Gelding            60  ...       1       A        0   \n",
       "2            NZ    Gelding            60  ...       1       A        0   \n",
       "5            NZ    Gelding            60  ...       1       A        0   \n",
       "6            NZ    Gelding            60  ...       1       A        0   \n",
       "\n",
       "   distance         going  horse_ratings     prize  Years  trainer_horse_co  \\\n",
       "0      1400  GOOD TO FIRM          40-15  485000.0   1997              3354   \n",
       "1      1400  GOOD TO FIRM          40-15  485000.0   1997              3366   \n",
       "2      1400  GOOD TO FIRM          40-15  485000.0   1997              4201   \n",
       "5      1400  GOOD TO FIRM          40-15  485000.0   1997              2757   \n",
       "6      1400  GOOD TO FIRM          40-15  485000.0   1997              2740   \n",
       "\n",
       "   jockey_horse_co  \n",
       "0             4167  \n",
       "1             1636  \n",
       "2             3487  \n",
       "5             3138  \n",
       "6             2194  \n",
       "\n",
       "[5 rows x 40 columns]"
      ]
     },
     "execution_count": 51,
     "metadata": {},
     "output_type": "execute_result"
    }
   ],
   "source": [
    "df.head()"
   ]
  },
  {
   "cell_type": "code",
   "execution_count": 52,
   "id": "N_3DLrSyu1zl",
   "metadata": {
    "colab": {
     "base_uri": "https://localhost:8080/"
    },
    "id": "N_3DLrSyu1zl",
    "outputId": "8309225e-6f42-4efa-b381-994961ec88cb"
   },
   "outputs": [
    {
     "data": {
      "text/plain": [
       "(54451, 40)"
      ]
     },
     "execution_count": 52,
     "metadata": {},
     "output_type": "execute_result"
    }
   ],
   "source": [
    "df.shape"
   ]
  },
  {
   "cell_type": "code",
   "execution_count": 53,
   "id": "649efefb",
   "metadata": {
    "id": "649efefb"
   },
   "outputs": [],
   "source": [
    "df = df[['won','lengths_behind', 'horse_age', 'horse_country','horse_type', 'horse_rating', 'actual_weight','win_odds','trainer_id','jockey_id', 'going']]"
   ]
  },
  {
   "cell_type": "code",
   "execution_count": 54,
   "id": "d7256f11",
   "metadata": {
    "id": "d7256f11"
   },
   "outputs": [],
   "source": [
    "df1 = pd.get_dummies(df)"
   ]
  },
  {
   "cell_type": "code",
   "execution_count": 55,
   "id": "918db438",
   "metadata": {
    "colab": {
     "base_uri": "https://localhost:8080/",
     "height": 334
    },
    "id": "918db438",
    "outputId": "b09d7a22-c275-4620-d0d8-330801f950b0"
   },
   "outputs": [
    {
     "data": {
      "text/html": [
       "<div>\n",
       "<style scoped>\n",
       "    .dataframe tbody tr th:only-of-type {\n",
       "        vertical-align: middle;\n",
       "    }\n",
       "\n",
       "    .dataframe tbody tr th {\n",
       "        vertical-align: top;\n",
       "    }\n",
       "\n",
       "    .dataframe thead th {\n",
       "        text-align: right;\n",
       "    }\n",
       "</style>\n",
       "<table border=\"1\" class=\"dataframe\">\n",
       "  <thead>\n",
       "    <tr style=\"text-align: right;\">\n",
       "      <th></th>\n",
       "      <th>won</th>\n",
       "      <th>lengths_behind</th>\n",
       "      <th>horse_age</th>\n",
       "      <th>horse_rating</th>\n",
       "      <th>actual_weight</th>\n",
       "      <th>win_odds</th>\n",
       "      <th>horse_country_ARG</th>\n",
       "      <th>horse_country_AUS</th>\n",
       "      <th>horse_country_BRZ</th>\n",
       "      <th>horse_country_CAN</th>\n",
       "      <th>...</th>\n",
       "      <th>going_FAST</th>\n",
       "      <th>going_GOOD</th>\n",
       "      <th>going_GOOD TO FIRM</th>\n",
       "      <th>going_GOOD TO YIELDING</th>\n",
       "      <th>going_SLOW</th>\n",
       "      <th>going_SOFT</th>\n",
       "      <th>going_WET FAST</th>\n",
       "      <th>going_WET SLOW</th>\n",
       "      <th>going_YIELDING</th>\n",
       "      <th>going_YIELDING TO SOFT</th>\n",
       "    </tr>\n",
       "  </thead>\n",
       "  <tbody>\n",
       "    <tr>\n",
       "      <th>0</th>\n",
       "      <td>0.0</td>\n",
       "      <td>8.00</td>\n",
       "      <td>3</td>\n",
       "      <td>60</td>\n",
       "      <td>133</td>\n",
       "      <td>9.7</td>\n",
       "      <td>0</td>\n",
       "      <td>1</td>\n",
       "      <td>0</td>\n",
       "      <td>0</td>\n",
       "      <td>...</td>\n",
       "      <td>0</td>\n",
       "      <td>0</td>\n",
       "      <td>1</td>\n",
       "      <td>0</td>\n",
       "      <td>0</td>\n",
       "      <td>0</td>\n",
       "      <td>0</td>\n",
       "      <td>0</td>\n",
       "      <td>0</td>\n",
       "      <td>0</td>\n",
       "    </tr>\n",
       "    <tr>\n",
       "      <th>1</th>\n",
       "      <td>0.0</td>\n",
       "      <td>5.75</td>\n",
       "      <td>3</td>\n",
       "      <td>60</td>\n",
       "      <td>133</td>\n",
       "      <td>16.0</td>\n",
       "      <td>0</td>\n",
       "      <td>0</td>\n",
       "      <td>0</td>\n",
       "      <td>0</td>\n",
       "      <td>...</td>\n",
       "      <td>0</td>\n",
       "      <td>0</td>\n",
       "      <td>1</td>\n",
       "      <td>0</td>\n",
       "      <td>0</td>\n",
       "      <td>0</td>\n",
       "      <td>0</td>\n",
       "      <td>0</td>\n",
       "      <td>0</td>\n",
       "      <td>0</td>\n",
       "    </tr>\n",
       "    <tr>\n",
       "      <th>2</th>\n",
       "      <td>0.0</td>\n",
       "      <td>4.75</td>\n",
       "      <td>3</td>\n",
       "      <td>60</td>\n",
       "      <td>132</td>\n",
       "      <td>3.5</td>\n",
       "      <td>0</td>\n",
       "      <td>0</td>\n",
       "      <td>0</td>\n",
       "      <td>0</td>\n",
       "      <td>...</td>\n",
       "      <td>0</td>\n",
       "      <td>0</td>\n",
       "      <td>1</td>\n",
       "      <td>0</td>\n",
       "      <td>0</td>\n",
       "      <td>0</td>\n",
       "      <td>0</td>\n",
       "      <td>0</td>\n",
       "      <td>0</td>\n",
       "      <td>0</td>\n",
       "    </tr>\n",
       "    <tr>\n",
       "      <th>5</th>\n",
       "      <td>0.0</td>\n",
       "      <td>1.25</td>\n",
       "      <td>3</td>\n",
       "      <td>60</td>\n",
       "      <td>127</td>\n",
       "      <td>7.0</td>\n",
       "      <td>0</td>\n",
       "      <td>0</td>\n",
       "      <td>0</td>\n",
       "      <td>0</td>\n",
       "      <td>...</td>\n",
       "      <td>0</td>\n",
       "      <td>0</td>\n",
       "      <td>1</td>\n",
       "      <td>0</td>\n",
       "      <td>0</td>\n",
       "      <td>0</td>\n",
       "      <td>0</td>\n",
       "      <td>0</td>\n",
       "      <td>0</td>\n",
       "      <td>0</td>\n",
       "    </tr>\n",
       "    <tr>\n",
       "      <th>6</th>\n",
       "      <td>0.0</td>\n",
       "      <td>9.50</td>\n",
       "      <td>3</td>\n",
       "      <td>60</td>\n",
       "      <td>123</td>\n",
       "      <td>99.0</td>\n",
       "      <td>0</td>\n",
       "      <td>0</td>\n",
       "      <td>0</td>\n",
       "      <td>0</td>\n",
       "      <td>...</td>\n",
       "      <td>0</td>\n",
       "      <td>0</td>\n",
       "      <td>1</td>\n",
       "      <td>0</td>\n",
       "      <td>0</td>\n",
       "      <td>0</td>\n",
       "      <td>0</td>\n",
       "      <td>0</td>\n",
       "      <td>0</td>\n",
       "      <td>0</td>\n",
       "    </tr>\n",
       "  </tbody>\n",
       "</table>\n",
       "<p>5 rows × 89 columns</p>\n",
       "</div>"
      ],
      "text/plain": [
       "   won  lengths_behind  horse_age  horse_rating  actual_weight  win_odds  \\\n",
       "0  0.0            8.00          3            60            133       9.7   \n",
       "1  0.0            5.75          3            60            133      16.0   \n",
       "2  0.0            4.75          3            60            132       3.5   \n",
       "5  0.0            1.25          3            60            127       7.0   \n",
       "6  0.0            9.50          3            60            123      99.0   \n",
       "\n",
       "   horse_country_ARG  horse_country_AUS  horse_country_BRZ  horse_country_CAN  \\\n",
       "0                  0                  1                  0                  0   \n",
       "1                  0                  0                  0                  0   \n",
       "2                  0                  0                  0                  0   \n",
       "5                  0                  0                  0                  0   \n",
       "6                  0                  0                  0                  0   \n",
       "\n",
       "   ...  going_FAST  going_GOOD  going_GOOD TO FIRM  going_GOOD TO YIELDING  \\\n",
       "0  ...           0           0                   1                       0   \n",
       "1  ...           0           0                   1                       0   \n",
       "2  ...           0           0                   1                       0   \n",
       "5  ...           0           0                   1                       0   \n",
       "6  ...           0           0                   1                       0   \n",
       "\n",
       "   going_SLOW  going_SOFT  going_WET FAST  going_WET SLOW  going_YIELDING  \\\n",
       "0           0           0               0               0               0   \n",
       "1           0           0               0               0               0   \n",
       "2           0           0               0               0               0   \n",
       "5           0           0               0               0               0   \n",
       "6           0           0               0               0               0   \n",
       "\n",
       "   going_YIELDING TO SOFT  \n",
       "0                       0  \n",
       "1                       0  \n",
       "2                       0  \n",
       "5                       0  \n",
       "6                       0  \n",
       "\n",
       "[5 rows x 89 columns]"
      ]
     },
     "execution_count": 55,
     "metadata": {},
     "output_type": "execute_result"
    }
   ],
   "source": [
    "df1.head()"
   ]
  },
  {
   "cell_type": "code",
   "execution_count": 56,
   "id": "e2b63d08",
   "metadata": {
    "colab": {
     "base_uri": "https://localhost:8080/"
    },
    "id": "e2b63d08",
    "outputId": "ab438edd-fb5c-4781-df2f-64ef722a5de4"
   },
   "outputs": [
    {
     "data": {
      "text/plain": [
       "(54451, 89)"
      ]
     },
     "execution_count": 56,
     "metadata": {},
     "output_type": "execute_result"
    }
   ],
   "source": [
    "df1.shape"
   ]
  },
  {
   "cell_type": "code",
   "execution_count": 57,
   "id": "sjM1HqRhHTaZ",
   "metadata": {
    "colab": {
     "base_uri": "https://localhost:8080/"
    },
    "id": "sjM1HqRhHTaZ",
    "outputId": "2e36aabd-b527-4135-fca7-06e4e979dde7"
   },
   "outputs": [
    {
     "data": {
      "text/plain": [
       "won                       float64\n",
       "lengths_behind            float64\n",
       "horse_age                   int64\n",
       "horse_rating                int64\n",
       "actual_weight               int64\n",
       "                           ...   \n",
       "going_SOFT                  uint8\n",
       "going_WET FAST              uint8\n",
       "going_WET SLOW              uint8\n",
       "going_YIELDING              uint8\n",
       "going_YIELDING TO SOFT      uint8\n",
       "Length: 89, dtype: object"
      ]
     },
     "execution_count": 57,
     "metadata": {},
     "output_type": "execute_result"
    }
   ],
   "source": [
    "df1.dtypes"
   ]
  },
  {
   "cell_type": "code",
   "execution_count": 58,
   "id": "03c9154f",
   "metadata": {},
   "outputs": [],
   "source": [
    "loss= (df1['won'] == 0).sum()\n",
    "win =(df1['won'] == 1).sum()"
   ]
  },
  {
   "cell_type": "code",
   "execution_count": 59,
   "id": "94d73c24",
   "metadata": {},
   "outputs": [
    {
     "name": "stdout",
     "output_type": "stream",
     "text": [
      "Class imbalance =  9.420653899483552\n"
     ]
    }
   ],
   "source": [
    "balance = (win/loss)*100\n",
    "print(\"Class imbalance = \", balance)"
   ]
  },
  {
   "cell_type": "markdown",
   "id": "5e65da7b",
   "metadata": {},
   "source": [
    "## Summary of Data\n",
    "\n",
    "Overview: we cleaned the races.csv and the runs.csv a bit separately before combining using a merge on the horse ID variable. From there we did a little more cleaning and feature generating. \n",
    "\n",
    "Runs:\n",
    "started with 79,447 obervations, 37 variables.\n",
    "From assessing the NA counts we removed the observations that had NA's in the following variables: horse_country, horse_type, place_odds - this reduced our dataset down by only 3,737 observations.\n",
    "We also removed the position_sec4-6, behind_sec4-6 and time4-6 because we determined them irrelevant for our analysis. \n",
    "\n",
    "Races:\n",
    "started with 6,349 observations and 37 variables.\n",
    "From assessing the NA counts we determined that none of our relevant variables had NA's we needed to filter out, so we limited the df to the first 10 columns.\n",
    "\n",
    "Combination:\n",
    "We combined the two datasets using merge as noted. \n",
    "We assessed the NA situation again and determined only the prize variable had NA's of count 5,849 so we removed those observations.\n",
    "We then reformated the date columns to date time so we could determine the time range of our dataset: 1997-2005\n",
    "We also counted a total of 5,585 races, and 4,215 horses.\n",
    "\n",
    "After looking at the data types, we noticed some desirable variables that are categorical in nature. We converted the country variable and horse type variables to dummies. This created a total of 24 new variables. \n",
    "\n",
    "Although the Jockey and Trainer variables are technically categorical in nature, they were represented with numerical ID's. For that reason we could have chose to leave them as numerical variable and include them in the analysis. We chose to limit the jockey and trainers to only those that had worked with over 1,000 horses. Making this change only reduced our dataset to 68,955 observation. It therefore does not have a big impact on the data size, be ensure the horses we anlysis only work with what might be considered the \"top\" or most experienced trainers. We then turned the variables into dummies adding more variables to the final dataset used. \n",
    "\n",
    "The resulting product is 54,451 observations over 89 variables (consisting of all the dummies + numeric variables of horse qualities, ratings, etc). \n",
    "\n",
    "A final note, the dataset has considerable class imbalance. Only ~9.4% of the total observations included a 1 in the win column. To account for this, our analysis will focus more strongly on the recall, precision and f1 score than purely accuracy. "
   ]
  },
  {
   "cell_type": "markdown",
   "id": "c8750dca",
   "metadata": {
    "id": "c8750dca"
   },
   "source": [
    "## Predicting the Winner\n",
    "\n",
    "This is a supervised, classification problem. \n",
    "\n",
    "#### Plan:\n",
    "1. train test split \n",
    "2. scale the numeric variables\n",
    "3. run prediction model:\n",
    "- Random Forest Classifier*can use mix of categorical and numeric variables\n",
    "- Bagging Classifier *use getdummies for country and type\n",
    "- Boosting Classifier *use getdummies for country and type\n",
    "\n",
    "4. compare accuracy, recall, precision & f-1 scores for each to see which model worked best"
   ]
  },
  {
   "cell_type": "code",
   "execution_count": 60,
   "id": "bde4b167",
   "metadata": {
    "id": "bde4b167"
   },
   "outputs": [],
   "source": [
    "from sklearn.model_selection import train_test_split\n",
    "from sklearn.ensemble import RandomForestClassifier\n",
    "from sklearn.preprocessing import StandardScaler\n",
    "from sklearn.metrics import classification_report"
   ]
  },
  {
   "cell_type": "code",
   "execution_count": 61,
   "id": "c95eb7ad",
   "metadata": {
    "id": "c95eb7ad"
   },
   "outputs": [],
   "source": [
    "x=df1.drop('won', axis=1)\n",
    "y=df1['won']"
   ]
  },
  {
   "cell_type": "code",
   "execution_count": 62,
   "id": "c8404d4a",
   "metadata": {
    "id": "c8404d4a"
   },
   "outputs": [],
   "source": [
    "x_train, x_test, y_train, y_test = train_test_split(x,y,test_size=0.3, random_state=0)"
   ]
  },
  {
   "cell_type": "code",
   "execution_count": 63,
   "id": "d2edd1a6",
   "metadata": {
    "id": "d2edd1a6"
   },
   "outputs": [],
   "source": [
    "scaler=StandardScaler()\n",
    "x_train_scaled=scaler.fit_transform(x_train)\n",
    "x_test_scaled=scaler.fit_transform(x_test)"
   ]
  },
  {
   "cell_type": "code",
   "execution_count": 64,
   "id": "d1d1bbda",
   "metadata": {
    "id": "d1d1bbda"
   },
   "outputs": [],
   "source": [
    "rfc = RandomForestClassifier(n_estimators=500,max_features='sqrt',random_state=0).fit(x_train,y_train)"
   ]
  },
  {
   "cell_type": "code",
   "execution_count": 65,
   "id": "09e173d8",
   "metadata": {
    "colab": {
     "base_uri": "https://localhost:8080/"
    },
    "id": "09e173d8",
    "outputId": "15c838e1-e41c-48c8-c3ec-33c07915cf62"
   },
   "outputs": [
    {
     "name": "stderr",
     "output_type": "stream",
     "text": [
      "C:\\Users\\Brooke\\anaconda3\\lib\\site-packages\\sklearn\\base.py:450: UserWarning: X does not have valid feature names, but RandomForestClassifier was fitted with feature names\n",
      "  warnings.warn(\n"
     ]
    },
    {
     "data": {
      "text/plain": [
       "0.3202130264446621"
      ]
     },
     "execution_count": 65,
     "metadata": {},
     "output_type": "execute_result"
    }
   ],
   "source": [
    "rfc.score(x_test_scaled,y_test)"
   ]
  },
  {
   "cell_type": "code",
   "execution_count": 66,
   "id": "925d909b",
   "metadata": {
    "colab": {
     "base_uri": "https://localhost:8080/"
    },
    "id": "925d909b",
    "outputId": "08a48ae4-9b60-4ace-fc2f-a894bc65ec48"
   },
   "outputs": [
    {
     "name": "stdout",
     "output_type": "stream",
     "text": [
      "              precision    recall  f1-score   support\n",
      "\n",
      "         0.0       1.00      1.00      1.00     14891\n",
      "         1.0       1.00      1.00      1.00      1445\n",
      "\n",
      "    accuracy                           1.00     16336\n",
      "   macro avg       1.00      1.00      1.00     16336\n",
      "weighted avg       1.00      1.00      1.00     16336\n",
      "\n"
     ]
    }
   ],
   "source": [
    "print(classification_report(y_test,rfc.predict(x_test)))"
   ]
  },
  {
   "cell_type": "code",
   "execution_count": 67,
   "id": "257113cd",
   "metadata": {
    "colab": {
     "base_uri": "https://localhost:8080/",
     "height": 1000
    },
    "id": "257113cd",
    "outputId": "96ceb87c-7a3b-4ef6-bf37-238cd1f4e77e"
   },
   "outputs": [
    {
     "data": {
      "image/png": "[encoded data removed]",
      "text/plain": [
       "<Figure size 864x1440 with 1 Axes>"
      ]
     },
     "metadata": {
      "needs_background": "light"
     },
     "output_type": "display_data"
    }
   ],
   "source": [
    "plt.figure(figsize=(12,20))\n",
    "nfeat=x.shape[1]\n",
    "plt.barh(np.arange(nfeat),rfc.feature_importances_,align='center')\n",
    "plt.yticks(np.arange(nfeat),list(x.columns))\n",
    "plt.ylim(-1,nfeat)\n",
    "plt.show()"
   ]
  },
  {
   "cell_type": "markdown",
   "id": "c7806151",
   "metadata": {
    "id": "c7806151"
   },
   "source": [
    "Lengths_behind looks fishy. After looking back at the variable descriptions, it makes sense to dorp this variable from the data because it is defined as follows:\n",
    "\n",
    "**lengths_behind - finishing position, as the number of horse lengths behind the winner**\n",
    "\n",
    "And will therefore be at risk of multicolinearity with winning/losing."
   ]
  },
  {
   "cell_type": "code",
   "execution_count": 68,
   "id": "de06afc4",
   "metadata": {
    "id": "de06afc4"
   },
   "outputs": [],
   "source": [
    "df1 = df1.drop(columns = ['lengths_behind'])"
   ]
  },
  {
   "cell_type": "code",
   "execution_count": 69,
   "id": "0bfc0af3",
   "metadata": {
    "id": "0bfc0af3"
   },
   "outputs": [],
   "source": [
    "x=df1.drop('won', axis=1)\n",
    "y=df1['won']"
   ]
  },
  {
   "cell_type": "code",
   "execution_count": 70,
   "id": "bfc8ad56",
   "metadata": {
    "id": "bfc8ad56"
   },
   "outputs": [],
   "source": [
    "x_train, x_test, y_train, y_test = train_test_split(x,y,test_size=0.3, random_state=0)"
   ]
  },
  {
   "cell_type": "code",
   "execution_count": 71,
   "id": "5c397005",
   "metadata": {
    "id": "5c397005"
   },
   "outputs": [],
   "source": [
    "scaler=StandardScaler()\n",
    "x_train_scaled=scaler.fit_transform(x_train)\n",
    "x_test_scaled=scaler.fit_transform(x_test)"
   ]
  },
  {
   "cell_type": "code",
   "execution_count": 72,
   "id": "472bd035",
   "metadata": {
    "id": "472bd035"
   },
   "outputs": [],
   "source": [
    "rfc = RandomForestClassifier(n_estimators=500,max_features='sqrt',random_state=0).fit(x_train_scaled,y_train)"
   ]
  },
  {
   "cell_type": "code",
   "execution_count": null,
   "id": "bbf15cba",
   "metadata": {},
   "outputs": [],
   "source": [
    "pd.crosstab(y_test,rfc.predict(x_test_scaled))"
   ]
  },
  {
   "cell_type": "code",
   "execution_count": 73,
   "id": "4115fe83",
   "metadata": {
    "colab": {
     "base_uri": "https://localhost:8080/"
    },
    "id": "4115fe83",
    "outputId": "30681f90-1b87-4697-e779-a4a7dea9735c"
   },
   "outputs": [
    {
     "name": "stdout",
     "output_type": "stream",
     "text": [
      "              precision    recall  f1-score   support\n",
      "\n",
      "         0.0       0.92      0.99      0.95     14891\n",
      "         1.0       0.33      0.06      0.10      1445\n",
      "\n",
      "    accuracy                           0.91     16336\n",
      "   macro avg       0.62      0.52      0.53     16336\n",
      "weighted avg       0.86      0.91      0.88     16336\n",
      "\n"
     ]
    }
   ],
   "source": [
    "print(classification_report(y_test,rfc.predict(x_test_scaled)))"
   ]
  },
  {
   "cell_type": "code",
   "execution_count": 74,
   "id": "8c922f30",
   "metadata": {
    "colab": {
     "base_uri": "https://localhost:8080/",
     "height": 1000
    },
    "id": "8c922f30",
    "outputId": "45c7553a-4218-4619-f474-805fe949cdf2"
   },
   "outputs": [
    {
     "data": {
      "image/png": "[encoded data removed]",
      "text/plain": [
       "<Figure size 864x1440 with 1 Axes>"
      ]
     },
     "metadata": {
      "needs_background": "light"
     },
     "output_type": "display_data"
    }
   ],
   "source": [
    "plt.figure(figsize=(12,20))\n",
    "nfeat=x.shape[1]\n",
    "plt.barh(np.arange(nfeat),rfc.feature_importances_,align='center')\n",
    "plt.yticks(np.arange(nfeat),list(x.columns))\n",
    "plt.ylim(-1,nfeat)\n",
    "plt.show()"
   ]
  },
  {
   "cell_type": "markdown",
   "id": "397757b3",
   "metadata": {},
   "source": [
    "From the RFC we can see some prominent features of importance in predicting the horse race winners and losers. The most important features are the weight, age, win_odds and rating, though, with win-odds and rating it is hard to determine strictly from this model if they are correlated with the target variable - win. Meaning, there may be a cyclical relationship between the win_odds and rating. \n",
    "\n",
    "Some other noteworthy features are whether or not a horse is from New Zealand, Australia, ore Ireland, and the state of the race track. Qualities associated with better tracks \"good\", \"good to firm\", \"good to yielding\" improve a horse's chance of winning in any given race. The same horse racing on a better quality track has a higher likelihood of winning than the same horse running on a poor quality track. \n",
    "\n",
    "We additionally some significance to which jockey or trainer is worked with, though relatively speaking, these impacts are much smaller. Since we limited our dataset to only jockeys and trainer that have worked with over 1,000 horses these results might be helpful for horse owners who are looking for a top level, expereinced trainer and jockey to pick the one with the highest probability of increasing their horses win chances. "
   ]
  },
  {
   "cell_type": "markdown",
   "id": "-Vom8rxRYzCw",
   "metadata": {
    "id": "-Vom8rxRYzCw"
   },
   "source": [
    "**Bagging**"
   ]
  },
  {
   "cell_type": "code",
   "execution_count": 78,
   "id": "0dc976f1",
   "metadata": {},
   "outputs": [],
   "source": [
    "from sklearn.tree import DecisionTreeClassifier"
   ]
  },
  {
   "cell_type": "code",
   "execution_count": 76,
   "id": "dc53e881",
   "metadata": {},
   "outputs": [],
   "source": [
    "from sklearn.ensemble import BaggingClassifier"
   ]
  },
  {
   "cell_type": "code",
   "execution_count": 80,
   "id": "jtNfDGEbY3Ks",
   "metadata": {
    "colab": {
     "base_uri": "https://localhost:8080/"
    },
    "id": "jtNfDGEbY3Ks",
    "outputId": "2c2668af-b4cc-435e-93d7-b3eb73c917c9"
   },
   "outputs": [
    {
     "name": "stdout",
     "output_type": "stream",
     "text": [
      "              precision    recall  f1-score   support\n",
      "\n",
      "         0.0       0.92      0.98      0.95     14891\n",
      "         1.0       0.31      0.09      0.14      1445\n",
      "\n",
      "    accuracy                           0.90     16336\n",
      "   macro avg       0.61      0.54      0.54     16336\n",
      "weighted avg       0.86      0.90      0.88     16336\n",
      "\n"
     ]
    }
   ],
   "source": [
    "clf = BaggingClassifier(base_estimator=DecisionTreeClassifier(),n_estimators=39,random_state=5).fit(x_train_scaled, y_train)\n",
    "print(classification_report(y_test, clf.predict(x_test_scaled)))"
   ]
  },
  {
   "cell_type": "markdown",
   "id": "a0118862",
   "metadata": {},
   "source": [
    "### Boosting"
   ]
  },
  {
   "cell_type": "code",
   "execution_count": 81,
   "id": "d975d76d",
   "metadata": {},
   "outputs": [],
   "source": [
    "from sklearn.ensemble import GradientBoostingClassifier\n",
    "from sklearn.model_selection import GridSearchCV"
   ]
  },
  {
   "cell_type": "code",
   "execution_count": 82,
   "id": "eafb4c84",
   "metadata": {},
   "outputs": [],
   "source": [
    "parameters = {'learning_rate':[0.1,0.01], 'n_estimators':[300,400,500],'max_depth':[2,3,4,5]}"
   ]
  },
  {
   "cell_type": "code",
   "execution_count": 83,
   "id": "3f0d8966",
   "metadata": {},
   "outputs": [],
   "source": [
    "bmod = GradientBoostingClassifier(random_state=0)"
   ]
  },
  {
   "cell_type": "code",
   "execution_count": null,
   "id": "4d0c1cdb",
   "metadata": {},
   "outputs": [],
   "source": [
    "# WARNING: this code chunk takes a long time to run!\n",
    "boost_class = GridSearchCV(bmod, parameters)\n",
    "boost_class.fit(x_train_scaled, y_train)"
   ]
  },
  {
   "cell_type": "code",
   "execution_count": null,
   "id": "243e071c",
   "metadata": {},
   "outputs": [],
   "source": [
    "dfp=pd.DataFrame.from_dict(boost_class.cv_results_)\n",
    "dfp.head()"
   ]
  },
  {
   "cell_type": "code",
   "execution_count": null,
   "id": "a8394ccc",
   "metadata": {},
   "outputs": [],
   "source": [
    "bst_clf = GradientBoostingClassifier(n_estimators=300, learning_rate=0.1,max_depth=2, random_state=0).fit(x_train_scaled, y_train)"
   ]
  },
  {
   "cell_type": "code",
   "execution_count": null,
   "id": "9ea7c536",
   "metadata": {},
   "outputs": [],
   "source": [
    "print(classification_report(y_test,rfc.predict(x_test_scaled)))"
   ]
  }
 ],
 "metadata": {
  "colab": {
   "name": "599 Final.ipynb",
   "provenance": []
  },
  "kernelspec": {
   "display_name": "Python 3",
   "language": "python",
   "name": "python3"
  },
  "language_info": {
   "codemirror_mode": {
    "name": "ipython",
    "version": 3
   },
   "file_extension": ".py",
   "mimetype": "text/x-python",
   "name": "python",
   "nbconvert_exporter": "python",
   "pygments_lexer": "ipython3",
   "version": "3.8.8"
  }
 },
 "nbformat": 4,
 "nbformat_minor": 5
}
