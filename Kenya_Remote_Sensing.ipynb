{
  "cells": [
    {
      "cell_type": "code",
      "execution_count": null,
      "metadata": {
        "colab": {
          "base_uri": "https://localhost:8080/"
        },
        "id": "_aPnUA0-0lf4",
        "outputId": "c7a6f8aa-ac59-472a-afb8-085914963bad"
      },
      "outputs": [
        {
          "output_type": "stream",
          "name": "stdout",
          "text": [
            "To authorize access needed by Earth Engine, open the following URL in a web browser and follow the instructions. If the web browser does not start automatically, please manually browse the URL below.\n",
            "\n",
            "    https://code.earthengine.google.com/client-auth?scopes=https%3A//www.googleapis.com/auth/earthengine%20https%3A//www.googleapis.com/auth/devstorage.full_control&request_id=b0_lU7RCirWlwMHR9EBu-pdZwXW43tkCzWSmKqJ9bfE&tc=8Mywas_Q75T--K_YrKI-KRTZv6CIZJDHI1qitV_aBaQ&cc=dnQ7gYueMBo3eYuggXCTt_veLvtfEy5AJlPJ4gUH0wc\n",
            "\n",
            "The authorization workflow will generate a code, which you should paste in the box below.\n",
            "Enter verification code: 4/1AdQt8qg2mM_gg9xWVpb5u09WDzRbzb8iNC9xFvxIf9l0D0bkTOxggUT-NhY\n",
            "\n",
            "Successfully saved authorization token.\n"
          ]
        }
      ],
      "source": [
        "import ee\n",
        "!earthengine authenticate\n",
        "ee.Initialize()"
      ]
    },
    {
      "cell_type": "code",
      "execution_count": null,
      "metadata": {
        "colab": {
          "base_uri": "https://localhost:8080/"
        },
        "id": "P66ofS_oRM1p",
        "outputId": "8623bb1d-af7c-4da5-f50e-d842a5a309e7"
      },
      "outputs": [
        {
          "output_type": "stream",
          "name": "stdout",
          "text": [
            "Mounted at /content/drive/\n"
          ]
        }
      ],
      "source": [
        "from google.colab import drive\n",
        "import os\n",
        "dir = '/content/drive/'\n",
        "drive.mount(dir)\n",
        "\n",
        "datapath = 'Research/Weather Risk/Data/'"
      ]
    },
    {
      "cell_type": "code",
      "execution_count": null,
      "metadata": {
        "id": "xf9ruiVI0oJx"
      },
      "outputs": [],
      "source": [
        "#this is the part we need to change!!\n",
        "parish_boundaries = ee.FeatureCollection(\"projects/ee-sprout-protect/assets/GADM_KE\")\n",
        "#landcover data\n",
        "#modisLandcover = ee.ImageCollection(\"MODIS/006/MCD12Q1\")\n",
        "# This data is from https://www.usgs.gov/centers/western-geographic-science-center/science/global-food-security-support-analysis-data-30-m\n",
        "# Will need to download the tiles for new countries and then import as assets in EE\n",
        "updated_landcover = ee.Image(\"projects/ee-ahobbs/assets/GFSAD_Africa\");\n",
        "\n",
        "\n",
        "#\"projects/ee-sprout-protect/assets/GADM_KE\"\n",
        "\n",
        "modis = ee.ImageCollection(\"MODIS/006/MOD09GA\")\n",
        "\n",
        "#NDVI data\n",
        "ndvi = ee.ImageCollection(\"LANDSAT/LE07/C01/T1_8DAY_NDVI\")\n",
        "\n",
        "#Data on soil moisture, temp, humidity, wind speed etc.\n",
        "soil_moisture = ee.ImageCollection(\"NASA_USDA/HSL/SMAP10KM_soil_moisture\").select(\"ssm\") #data available after 2014\n",
        "\n",
        "#GDAL before 2010 (including 2010)\n",
        "GDAL = ee.ImageCollection(\"NASA/GLDAS/V20/NOAH/G025/T3H\").select( \"RootMoist_inst\",\"Qs_acc\",\"Evap_tavg\",\"Qair_f_inst\",\"Psurf_f_inst\",\n",
        "                                                                                                      \"Wind_f_inst\", \"Tveg_tavg\", \"Tair_f_inst\")\n",
        "\n",
        "#GDAL after 2010 (2011 - 2020)\n",
        "GDAL_new = ee.ImageCollection(\"NASA/GLDAS/V021/NOAH/G025/T3H\").select( \"RootMoist_inst\",\"Qs_acc\",\"Evap_tavg\",\"Qair_f_inst\",\"Psurf_f_inst\",\n",
        "                                                                                                      \"Wind_f_inst\", \"Tveg_tavg\", \"Tair_f_inst\")\n",
        "temp_precip_wind = ee.ImageCollection(\"ECMWF/ERA5/DAILY\").select(\"mean_2m_air_temperature\", \"total_precipitation\")\n",
        "#temperature = ee.ImageCollection('MODIS/006/MOD11A1') #gives only temp data\n"
      ]
    },
    {
      "cell_type": "code",
      "execution_count": null,
      "metadata": {
        "id": "II8R4JKtk7A3"
      },
      "outputs": [],
      "source": [
        "# USE THIS CELL FOR EXTRACTING MODIS DATA WITH CROPLAND FILTER:\n",
        "\n",
        "\n",
        "# extracting monthly data parish level data: BANDS NEEDED TO CALCULATE VEGETATION INDICES\n",
        "infos = []\n",
        "for year in range(2011, 2021):\n",
        "  #filtered = modisLandcover.filter(ee.Filter.date('{}-01-01'.format(year), '{}-12-31'.format(year)))\n",
        "  #landcover = ee.Image(filtered.first())\n",
        "  #classified = landcover.select('LC_Type1')\n",
        "  # ugandaLandcover = classified.clip(parish_boundaries)\n",
        "  # croplands = ugandaLandcover.eq([12,14]).reduce(ee.Reducer.anyNonZero())\n",
        "\n",
        "  filtered = updated_landcover\n",
        "  landcover = ee.Image(filtered)\n",
        "  classified = landcover.select('b1')\n",
        "  ugandaLandcover = classified.clip(parish_boundaries)\n",
        "  croplands = ugandaLandcover.eq(2).reduce(ee.Reducer.anyNonZero())\n",
        "\n",
        "  for month in range(1,13):\n",
        "    print(year, month)\n",
        "    start_date = str(year) + \"-\" + str(month) + \"-01\"\n",
        "    if month in [1,3,5,7,8,10,12]:\n",
        "      lastday = \"-31\"\n",
        "    elif month == 2:\n",
        "      lastday = \"-28\"\n",
        "    else:\n",
        "      lastday = \"-30\"\n",
        "\n",
        "    end_date = str(year) + \"-\" + str(month) + lastday\n",
        "    #print(start_date, end_date)\n",
        "    modis_avg = modis.filter(ee.Filter.date(start_date, end_date)).max().clip(parish_boundaries).mask(croplands)\n",
        "\n",
        "    meanMODIS = modis_avg.reduceRegions(\n",
        "      collection=parish_boundaries,\n",
        "      reducer=ee.Reducer.mean(),\n",
        "      scale=30)\n",
        "\n",
        "    #all remote sensing files are stored in data/geodata/Parish_level_monthly_data/\n",
        "    task = ee.batch.Export.table.toDrive(\n",
        "      collection=meanMODIS,\n",
        "      folder= \"MODIS_croplands_kenya\",\n",
        "      description='kenya' +  \"_\" + str(year) + \"_\" + str(month),\n",
        "      fileFormat='CSV')\n",
        "    task.start()"
      ]
    },
    {
      "cell_type": "code",
      "execution_count": null,
      "metadata": {
        "id": "E_PVKSSroGP2"
      },
      "outputs": [],
      "source": [
        "#!earthengine task list"
      ]
    },
    {
      "cell_type": "code",
      "execution_count": null,
      "metadata": {
        "id": "_WIjaBJvoIIG"
      },
      "outputs": [],
      "source": [
        "# USE THIS CELL FOR EXTRACTING MODIS DATA WITHOUT CROPLAND FILTER:\n",
        "\n",
        "'''\n",
        "# extracting monthly data parish level data: BANDS NEEDED TO CALCULATE VEGETATION INDICES\n",
        "infos = []\n",
        "for year in range(2004, 2021):\n",
        "\n",
        "  for month in range(5,13):\n",
        "    print(year, month)\n",
        "    start_date = str(year) + \"-\" + str(month) + \"-01\"\n",
        "    end_date = str(year) + \"-\" + str(month) + \"-30\"\n",
        "    #print(start_date, end_date)\n",
        "    modis_avg = modis.filter(ee.Filter.date(start_date, end_date)).max()\n",
        "\n",
        "    meanMODIS = modis_avg.reduceRegions(\n",
        "      collection=parish_boundaries,\n",
        "      reducer=ee.Reducer.mean(),\n",
        "      scale=30)\n",
        "\n",
        "    #all remote sensing files are stored in data/geodata/Parish_level_monthly_data/\n",
        "    task = ee.batch.Export.table.toDrive(\n",
        "      collection=meanMODIS,\n",
        "      folder= \"MODIS\",\n",
        "      description='uganda' +  \"_\" + str(year) + \"_\" + str(month),\n",
        "      fileFormat='CSV')\n",
        "    task.start()\n",
        "'''"
      ]
    },
    {
      "cell_type": "code",
      "execution_count": null,
      "metadata": {
        "id": "2JKEKrJJkrBC"
      },
      "outputs": [],
      "source": [
        "# USE THIS CELL FOR EXTRACTING NDVI DATA WITH CROPLAND FILTER:\n",
        "\n",
        "\n",
        "# extracting monthly data parish level data: NDVI\n",
        "infos = []\n",
        "for year in range(2011, 2021):\n",
        "  # filtered = modisLandcover.filter(ee.Filter.date('{}-01-01'.format(year), '{}-12-31'.format(year)))\n",
        "  # landcover = ee.Image(filtered.first())\n",
        "  # classified = landcover.select('LC_Type1')\n",
        "  # ugandaLandcover = classified.clip(parish_boundaries)\n",
        "  # croplands = ugandaLandcover.eq([12,14]).reduce(ee.Reducer.anyNonZero())\n",
        "\n",
        "  filtered = updated_landcover\n",
        "  landcover = ee.Image(filtered)\n",
        "  classified = landcover.select('b1')\n",
        "  ugandaLandcover = classified.clip(parish_boundaries)\n",
        "  croplands = ugandaLandcover.eq(2).reduce(ee.Reducer.anyNonZero())\n",
        "\n",
        "  for month in range(1,13):\n",
        "    print(year, month)\n",
        "    start_date = str(year) + \"-\" + str(month) + \"-01\"\n",
        "\n",
        "    if month in [1,3,5,7,8,10,12]:\n",
        "      lastday = \"-31\"\n",
        "    elif month == 2:\n",
        "      lastday = \"-28\"\n",
        "    else:\n",
        "      lastday = \"-30\"\n",
        "\n",
        "    end_date = str(year) + \"-\" + str(month) + lastday\n",
        "    #print(start_date, end_date)\n",
        "    ndvi_avg = ndvi.filter(ee.Filter.date(start_date, end_date)).max().clip(parish_boundaries).mask(croplands)\n",
        "\n",
        "    meanNDVI = ndvi_avg.reduceRegions(\n",
        "      collection=parish_boundaries,\n",
        "      reducer=ee.Reducer.mean(),\n",
        "      scale=30)\n",
        "\n",
        "    #all remote sensing files are stored in data/geodata/Parish_level_monthly_data/\n",
        "    task = ee.batch.Export.table.toDrive(\n",
        "      collection=meanNDVI,\n",
        "      folder= \"NDVI_croplands_kenya\",\n",
        "      description='Keinya' +  \"_\" + str(year) + \"_\" + str(month),\n",
        "      fileFormat='CSV')\n",
        "    task.start()"
      ]
    },
    {
      "cell_type": "code",
      "execution_count": null,
      "metadata": {
        "id": "0mSQgjiyT4QJ"
      },
      "outputs": [],
      "source": [
        "# USE THIS CELL FOR EXTRACTING NDVI DATA WITHOUT CROPLAND FILTER:\n",
        "\n",
        "'''\n",
        "# extracting monthly data parish level data: NDVI\n",
        "infos = []\n",
        "for year in range(2004, 2021):\n",
        "  for month in range(5,13):\n",
        "    print(year, month)\n",
        "    start_date = str(year) + \"-\" + str(month) + \"-01\"\n",
        "    end_date = str(year) + \"-\" + str(month) + \"-30\"\n",
        "    #print(start_date, end_date)\n",
        "    ndvi_avg = ndvi.filter(ee.Filter.date(start_date, end_date)).max()\n",
        "\n",
        "    meanNDVI = ndvi_avg.reduceRegions(\n",
        "      collection=parish_boundaries,\n",
        "      reducer=ee.Reducer.mean(),\n",
        "      scale=30)\n",
        "\n",
        "    #all remote sensing files are stored in data/geodata/Parish_level_monthly_data/\n",
        "    task = ee.batch.Export.table.toDrive(\n",
        "      collection=meanNDVI,\n",
        "      folder= \"NDVI\",\n",
        "      description='uganda' +  \"_\" + str(year) + \"_\" + str(month),\n",
        "      fileFormat='CSV')\n",
        "    task.start()\n",
        "  '''"
      ]
    },
    {
      "cell_type": "code",
      "execution_count": null,
      "metadata": {
        "id": "307jwZPFnPwe"
      },
      "outputs": [],
      "source": [
        "# USE THIS CELL FOR EXTRACTING TPW DATA WITH CROPLAND FILTER:\n",
        "\n",
        "\n",
        "# extracting monthly data parish level data: for all other related variables such as precipitation, wind, temperature\n",
        "infos = []\n",
        "for year in range(2011, 2021):\n",
        "  # filtered = modisLandcover.filter(ee.Filter.date('{}-01-01'.format(year), '{}-12-31'.format(year)))\n",
        "  # landcover = ee.Image(filtered.first())\n",
        "  # classified = landcover.select('LC_Type1')\n",
        "  # ugandaLandcover = classified.clip(parish_boundaries)\n",
        "  # croplands = ugandaLandcover.eq([12,14]).reduce(ee.Reducer.anyNonZero())\n",
        "\n",
        "  filtered = updated_landcover\n",
        "  landcover = ee.Image(filtered)\n",
        "  classified = landcover.select('b1')\n",
        "  ugandaLandcover = classified.clip(parish_boundaries)\n",
        "  croplands = ugandaLandcover.eq(2).reduce(ee.Reducer.anyNonZero())\n",
        "\n",
        "  for month in range(1,13):\n",
        "    print(year, month)\n",
        "    start_date = str(year) + \"-\" + str(month) + \"-01\"\n",
        "\n",
        "    if month in [1,3,5,7,8,10,12]:\n",
        "      lastday = \"-31\"\n",
        "    elif month == 2:\n",
        "      lastday = \"-28\"\n",
        "    else:\n",
        "      lastday = \"-30\"\n",
        "\n",
        "    end_date = str(year) + \"-\" + str(month) + lastday\n",
        "\n",
        "    #print(start_date, end_date)\n",
        "    temp_precip_wind_avg = temp_precip_wind.filter(ee.Filter.date(start_date, end_date)).mean().clip(parish_boundaries).mask(croplands)\n",
        "\n",
        "    meanTPW = temp_precip_wind_avg.reduceRegions(\n",
        "      collection=parish_boundaries,\n",
        "      reducer=ee.Reducer.mean(),\n",
        "      scale=30)\n",
        "\n",
        "    #all remote sensing files are stored in data/geodata/Parish_level_monthly_data/\n",
        "    task = ee.batch.Export.table.toDrive(\n",
        "      collection=meanTPW,\n",
        "      folder= \"Temp_Precip_Wind_croplands_kenya\",\n",
        "      description='kenya' +  \"_\" + str(year) + \"_\" + str(month),\n",
        "      fileFormat='CSV')\n",
        "    task.start()"
      ]
    },
    {
      "cell_type": "code",
      "execution_count": null,
      "metadata": {
        "id": "Uc-Ek-acuNX3"
      },
      "outputs": [],
      "source": [
        "# USE THIS CELL FOR EXTRACTING TPW DATA WITH CROPLAND FILTER:\n",
        "\n",
        "'''\n",
        "# extracting monthly data parish level data: for all other related variables such as precipitation, wind, temperature\n",
        "infos = []\n",
        "for year in range(2004, 2021):\n",
        "  for month in range(5,13):\n",
        "    print(year, month)\n",
        "    start_date = str(year) + \"-\" + str(month) + \"-01\"\n",
        "    end_date = str(year) + \"-\" + str(month) + \"-30\"\n",
        "    #print(start_date, end_date)\n",
        "    temp_precip_wind_avg = temp_precip_wind.filter(ee.Filter.date(start_date, end_date)).mean()\n",
        "\n",
        "    meanTPW = temp_precip_wind_avg.reduceRegions(\n",
        "      collection=parish_boundaries,\n",
        "      reducer=ee.Reducer.mean(),\n",
        "      scale=30)\n",
        "\n",
        "    #all remote sensing files are stored in data/geodata/Parish_level_monthly_data/\n",
        "    task = ee.batch.Export.table.toDrive(\n",
        "      collection=meanTPW,\n",
        "      folder= \"Temp_Precip_Wind\",\n",
        "      description='uganda' +  \"_\" + str(year) + \"_\" + str(month),\n",
        "      fileFormat='CSV')\n",
        "    task.start()\n",
        "'''"
      ]
    },
    {
      "cell_type": "code",
      "execution_count": null,
      "metadata": {
        "id": "NIgaXWgjoSWL"
      },
      "outputs": [],
      "source": [
        "# USE THIS CELL FOR EXTRACTING GDAL DATA WITH CROPLAND FILTER: 2004 - 2010\n",
        "\n",
        "\n",
        "# extracting monthly data parish level data: GDAL (GDAL contains data for important variables such as precipitation, temprature, wind speed, transpiration, soil moisture etc.) [2004 - 2010]\n",
        "infos = []\n",
        "for year in range(2011, 2021):\n",
        "  # filtered = modisLandcover.filter(ee.Filter.date('{}-01-01'.format(year), '{}-12-31'.format(year)))\n",
        "  # landcover = ee.Image(filtered.first())\n",
        "  # classified = landcover.select('LC_Type1')\n",
        "  # ugandaLandcover = classified.clip(parish_boundaries)\n",
        "  # croplands = ugandaLandcover.eq([12,14]).reduce(ee.Reducer.anyNonZero())\n",
        "\n",
        "  filtered = updated_landcover\n",
        "  landcover = ee.Image(filtered)\n",
        "  classified = landcover.select('b1')\n",
        "  ugandaLandcover = classified.clip(parish_boundaries)\n",
        "  croplands = ugandaLandcover.eq(2).reduce(ee.Reducer.anyNonZero())\n",
        "\n",
        "  for month in range(1,13):\n",
        "    print(year, month)\n",
        "    start_date = str(year) + \"-\" + str(month) + \"-01\"\n",
        "\n",
        "    if month in [1,3,5,7,8,10,12]:\n",
        "      lastday = \"-31\"\n",
        "    elif month == 2:\n",
        "      lastday = \"-28\"\n",
        "    else:\n",
        "      lastday = \"-30\"\n",
        "\n",
        "    end_date = str(year) + \"-\" + str(month) + lastday\n",
        "    #print(start_date, end_date)\n",
        "    GDAL_avg = GDAL.filter(ee.Filter.date(start_date, end_date)).mean().clip(parish_boundaries).mask(croplands)\n",
        "\n",
        "    meanGDAL = GDAL_avg.reduceRegions(\n",
        "      collection=parish_boundaries,\n",
        "      reducer=ee.Reducer.mean(),\n",
        "      scale=30)\n",
        "\n",
        "    #all remote sensing files are stored in data/geodata/Parish_level_monthly_data/\n",
        "    task = ee.batch.Export.table.toDrive(\n",
        "      collection=meanGDAL,\n",
        "      folder= \"GDAL_croplands_kenya\",\n",
        "      description='kenya' +  \"_\" + str(year) + \"_\" + str(month),\n",
        "      fileFormat='CSV')\n",
        "    task.start()\n"
      ]
    },
    {
      "cell_type": "code",
      "execution_count": null,
      "metadata": {
        "id": "v9LBCjCzU46T"
      },
      "outputs": [],
      "source": [
        "# USE THIS CELL FOR EXTRACTING GDAL DATA WITH CROPLAND FILTER: 2011 - 2020\n",
        "\n",
        "# extracting monthly data parish level data: GDAL (GDAL contains data for important variables such as precipitation, temprature, wind speed, transpiration, soil moisture etc.) [2011 - 2020]\n",
        "infos = []\n",
        "for year in range(2011, 2021):\n",
        "  # filtered = modisLandcover.filter(ee.Filter.date('{}-01-01'.format(year), '{}-12-31'.format(year)))\n",
        "  # landcover = ee.Image(filtered.first())\n",
        "  # classified = landcover.select('LC_Type1')\n",
        "  # ugandaLandcover = classified.clip(parish_boundaries)\n",
        "  # croplands = ugandaLandcover.eq([12,14]).reduce(ee.Reducer.anyNonZero())\n",
        "\n",
        "  filtered = updated_landcover\n",
        "  landcover = ee.Image(filtered)\n",
        "  classified = landcover.select('b1')\n",
        "  ugandaLandcover = classified.clip(parish_boundaries)\n",
        "  croplands = ugandaLandcover.eq(2).reduce(ee.Reducer.anyNonZero())\n",
        "\n",
        "  for month in range(1,13):\n",
        "    print(year, month)\n",
        "    start_date = str(year) + \"-\" + str(month) + \"-01\"\n",
        "\n",
        "    if month in [1,3,5,7,8,10,12]:\n",
        "      lastday = \"-31\"\n",
        "    elif month == 2:\n",
        "      lastday = \"-28\"\n",
        "    else:\n",
        "      lastday = \"-30\"\n",
        "\n",
        "    end_date = str(year) + \"-\" + str(month) + lastday\n",
        "    #print(start_date, end_date)\n",
        "    GDAL_avg = GDAL_new.filter(ee.Filter.date(start_date, end_date)).mean().clip(parish_boundaries).mask(croplands)\n",
        "\n",
        "    meanGDAL = GDAL_avg.reduceRegions(\n",
        "      collection=parish_boundaries,\n",
        "      reducer=ee.Reducer.mean(),\n",
        "      scale=30)\n",
        "\n",
        "    #all remote sensing files are stored in data/geodata/Parish_level_monthly_data/\n",
        "    task = ee.batch.Export.table.toDrive(\n",
        "      collection=meanGDAL,\n",
        "      folder= \"GDAL_croplands_kenya\",\n",
        "      description='kenya' +  \"_\" + str(year) + \"_\" + str(month),\n",
        "      fileFormat='CSV')\n",
        "    task.start()"
      ]
    },
    {
      "cell_type": "code",
      "execution_count": null,
      "metadata": {
        "id": "RYWdBu-ev1xC"
      },
      "outputs": [],
      "source": [
        "# USE THIS CELL FOR EXTRACTING GDAL DATA WITHOUT CROPLAND FILTER: 2004 - 2010\n",
        "\n",
        "'''\n",
        "# extracting monthly data parish level data: GDAL (GDAL contains data for important variables such as precipitation, temprature, wind speed, transpiration, soil moisture etc.) [2004 - 2010]\n",
        "infos = []\n",
        "for year in range(2004, 2011):\n",
        "  for month in range(5,13):\n",
        "    print(year, month)\n",
        "    start_date = str(year) + \"-\" + str(month) + \"-01\"\n",
        "    end_date = str(year) + \"-\" + str(month) + \"-30\"\n",
        "    #print(start_date, end_date)\n",
        "    GDAL_avg = GDAL.filter(ee.Filter.date(start_date, end_date)).mean()\n",
        "\n",
        "    meanGDAL = GDAL_avg.reduceRegions(\n",
        "      collection=parish_boundaries,\n",
        "      reducer=ee.Reducer.mean(),\n",
        "      scale=30)\n",
        "\n",
        "    #all remote sensing files are stored in data/geodata/Parish_level_monthly_data/\n",
        "    task = ee.batch.Export.table.toDrive(\n",
        "      collection=meanGDAL,\n",
        "      folder= \"GDAL\",\n",
        "      description='uganda' +  \"_\" + str(year) + \"_\" + str(month),\n",
        "      fileFormat='CSV')\n",
        "    task.start()\n",
        "'''"
      ]
    },
    {
      "cell_type": "code",
      "execution_count": null,
      "metadata": {
        "id": "QgHj4PYzv2Ca"
      },
      "outputs": [],
      "source": [
        "# USE THIS CELL FOR EXTRACTING GDAL DATA WITHOUT CROPLAND FILTER: 2011-2020\n",
        "'''\n",
        "# extracting monthly data parish level data: GDAL (GDAL contains data for important variables such as precipitation, temprature, wind speed, transpiration, soil moisture etc.) [2011 - 2020]\n",
        "infos = []\n",
        "for year in range(2011, 2021):\n",
        "  for month in range(5,13):\n",
        "    print(year, month)\n",
        "    start_date = str(year) + \"-\" + str(month) + \"-01\"\n",
        "    end_date = str(year) + \"-\" + str(month) + \"-30\"\n",
        "    #print(start_date, end_date)\n",
        "    GDAL_avg = GDAL_new.filter(ee.Filter.date(start_date, end_date)).mean()\n",
        "\n",
        "    meanGDAL = GDAL_avg.reduceRegions(\n",
        "      collection=parish_boundaries,\n",
        "      reducer=ee.Reducer.mean(),\n",
        "      scale=30)\n",
        "\n",
        "    #all remote sensing files are stored in data/geodata/Parish_level_monthly_data/\n",
        "    task = ee.batch.Export.table.toDrive(\n",
        "      collection=meanGDAL,\n",
        "      folder= \"GDAL\",\n",
        "      description='uganda' +  \"_\" + str(year) + \"_\" + str(month),\n",
        "      fileFormat='CSV')\n",
        "    task.start()\n",
        "\n",
        "'''\n"
      ]
    },
    {
      "cell_type": "code",
      "execution_count": null,
      "metadata": {
        "id": "kuscvRItv-7L"
      },
      "outputs": [],
      "source": []
    },
    {
      "cell_type": "code",
      "execution_count": null,
      "metadata": {
        "id": "lg61P-Asv4GI"
      },
      "outputs": [],
      "source": []
    },
    {
      "cell_type": "code",
      "execution_count": null,
      "metadata": {
        "id": "d2bPnd8R1aIw"
      },
      "outputs": [],
      "source": [
        "# extracting yearly data county/ district level data\n",
        "'''\n",
        "infos = []\n",
        "for year in range(2004, 2021):\n",
        "  print(year)\n",
        "  ndvi_avg = ndvi.filter(ee.Filter.calendarRange(year, year,'year')).mean()\n",
        "  #update: changed max to mean NDVI\n",
        "  meanNDVI = ndvi_avg.reduceRegions(\n",
        "    collection=boundaries,\n",
        "    reducer=ee.Reducer.mean(),\n",
        "    scale=30)\n",
        "  task = ee.batch.Export.table.toDrive(\n",
        "    collection=meanNDVI,\n",
        "    folder= \"County_District_level_yearly_data\",\n",
        "    description='uganda' + str(year),\n",
        "    fileFormat='CSV')\n",
        "  task.start()\n",
        "  '''"
      ]
    },
    {
      "cell_type": "code",
      "execution_count": null,
      "metadata": {
        "id": "FgilqNcUnuV9"
      },
      "outputs": [],
      "source": []
    }
  ],
  "metadata": {
    "colab": {
      "provenance": []
    },
    "kernelspec": {
      "display_name": "Python 3",
      "name": "python3"
    }
  },
  "nbformat": 4,
  "nbformat_minor": 0
}